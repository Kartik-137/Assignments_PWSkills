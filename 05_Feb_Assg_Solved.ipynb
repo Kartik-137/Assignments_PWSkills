{
 "cells": [
  {
   "cell_type": "markdown",
   "id": "e41b7d4f",
   "metadata": {},
   "source": [
    "# 05 Feb Assignment Solved"
   ]
  },
  {
   "cell_type": "markdown",
   "id": "43e9c3d6",
   "metadata": {},
   "source": [
    "### -------------------------------------------------------------------------------------------------------------------------------------"
   ]
  },
  {
   "cell_type": "markdown",
   "id": "c42ccd9d",
   "metadata": {},
   "source": [
    "#### Q1. Explain Class and Object with respect to Object-Oriented Programming. Give a suitable example.\n",
    "- **Class** is a way of organizing information about a data type which gives access to the programmer to reuse the elements of the same when multiple instances of the data type is created. Class defines a general behavior that a whole category of instances created based on the class will have.\n",
    "- An **object** is an instance of the class and has the same general behavior as that of the class. All individual objects has three basic characteristics:\n",
    "    1. Identity: Allows objects to be differentiated from other objects.\n",
    "    2. State: The property an object has. (Eg. A variable's value can be manipulated) \n",
    "    3. Behavior: The actions that the objects can take.\n",
    "  \n",
    "- In OOP, classes represent real world things and the objects are based on them. Once an object is created, it is equipped with the general behavior defined for the class of that object.\n",
    "- Example of real world classes and their objects:\n",
    "    1. If Dog is class then all type of breeds are the object of the class Dog\n",
    "    2. If particle is a class then electrons, protons, quarks are the objects of the class particle\n",
    "    3. If Star is a class then red giant, dwarf stars, neutron stars, pulsars are the objects of the class Star"
   ]
  },
  {
   "cell_type": "markdown",
   "id": "c7a4c104",
   "metadata": {},
   "source": [
    "### -------------------------------------------------------------------------------------------------------------------------------------\n"
   ]
  },
  {
   "cell_type": "markdown",
   "id": "c9cead86",
   "metadata": {},
   "source": [
    "#### Q2. Name the four pillars of OOPs.\n",
    "- The four pillars of Object Oriented Programming are as followed:\n",
    "\n",
    "#### 1. Abstraction:\n",
    "- Abstrsaction in OOPs is the concept using which a programmer can hide the internal functionality or the details of the function. \n",
    "- That is the internal working of the function remains hidden from the user and only the basic overview of the function is available to the user. \n",
    "- Therefore, the user only knows **what the function does** but does not know **how it does it**.\n",
    "- In heirarchy, abstraction lets parent classes put restriction over child classes\n",
    "- In python, a class is an abstract class if it contains one or more abstract methods. Here, first the parent class inherits the ABC class and then an abstract method inside the parent class is defined using the decorator __@abstractmethod__.\n",
    "\n",
    "\n",
    "#### 2. Encapsulation:\n",
    "- Encapsulation is the concept of wrapping of data and methods that works on the data within one unit.\n",
    "- It lets a programmer put restriction over global access to methods and variables of the class. Therefore, it maintains data flow and prevents any accidental modification.\n",
    "- In python data can be encapsulated by prefixing the attributes and methods with:\n",
    "    1. single underscore ( _ ) to create **protected** members:\n",
    "    - Does not make any difference in the compiler side but conveys the programmer that data should not be accessed or modified   directly outside of the class.\n",
    "    2. double underscore ( __ ) to create **private** members:\n",
    "    - This makes the data private and hence can  only be accessed through intermediaries (getters and setters) if they are available.\n",
    "    \n",
    "#### 3. Polymorphism:"
   ]
  },
  {
   "cell_type": "markdown",
   "id": "b5a9d07c",
   "metadata": {},
   "source": [
    "- Polymorphism means having many forms.In programming, polymorphism is the concept in which the same function behaves differently based on the input data types.\n",
    "- Polymorphism allows the same function carrying the same name to be used for different tasks as if it was referring to altogether a different class. \n",
    "- Polymorphism has three main concepts: \n",
    "    1. Method overriding:\n",
    "        - Happens when parent class and child class has same methods and calling the methods through child' s object results in excution of child' s method instead of prioritizing parent' s method.\n",
    "    2. Method overloading:\n",
    "        - When the methods inside a class has the same name but differs on the basis of the arguments given and thus results in different output.\n",
    "        - Python does not support method overloading\n",
    "    3. Operator overloading:\n",
    "        - Another type of polymorphism where the operator behaves diffrently based on the operands given.\n",
    "        - For example (+) operator adds two integers but also performs concatenation of strings."
   ]
  },
  {
   "cell_type": "markdown",
   "id": "7b6f2216",
   "metadata": {},
   "source": [
    "#### 4. Inheritance:\n",
    "- The concept of inheritance comes from biology itself, which gives the capability to the derived classes to acquire the traits, properties of their parent classes. The main idea behind inheritance is that one can create new classes based on existing classes.\n",
    "- Inheritance is beneficial for code reusabillity and makes the code reliable\n",
    "- Types of inheritance:\n",
    "    1. Single inheritance:\n",
    "    - child class has single parent class to inherit from.\n",
    "    2. Multi-level inheritance\n",
    "    - A chain of inheritance is present where the child class can inherit from all the Superclasses.\n",
    "    3. Hierarchical inheritance:\n",
    "    - When multiple child class inherits from single parent class.\n",
    "    4. Multiple inheritance:\n",
    "    - When derived class inherits from multiple superclasses"
   ]
  },
  {
   "cell_type": "markdown",
   "id": "1db744bd",
   "metadata": {},
   "source": [
    "### -------------------------------------------------------------------------------------------------------------------------------------\n"
   ]
  },
  {
   "cell_type": "markdown",
   "id": "ddf51d14",
   "metadata": {},
   "source": [
    "#### Q3. Explain why the __ init __() function is used. Give a suitable example.\n",
    "- The __ init __() method in python' s class is the constructor of the class. This constructor is a special method in the class which takes in the state parameters and creates an object with those user-defined parameters.\n",
    "- The constructor is function which does not require explicit calling and its control is not at the user' s hand. It is used for writing configuration related code."
   ]
  },
  {
   "cell_type": "code",
   "execution_count": 1,
   "id": "bed27047",
   "metadata": {},
   "outputs": [],
   "source": [
    "# __init__() method example code\n",
    "\n",
    "class Person():\n",
    "    \n",
    "    def __init__(self, fname, lname):         # Constructor of the class Person\n",
    "        self.fname = fname\n",
    "        self.lname = lname\n",
    "        print(\"Constructor initialized...\\n\")\n",
    "    def greet(self):\n",
    "        print(f\"Hello and Welcome {self.fname} {self.lname} \")"
   ]
  },
  {
   "cell_type": "code",
   "execution_count": 2,
   "id": "788256f8",
   "metadata": {},
   "outputs": [
    {
     "name": "stdout",
     "output_type": "stream",
     "text": [
      "Constructor initialized...\n",
      "\n",
      "Hello and Welcome Tim Munich \n"
     ]
    }
   ],
   "source": [
    "obj=Person('Tim', 'Munich')  # Object of the class Person\n",
    "obj.greet()"
   ]
  },
  {
   "cell_type": "markdown",
   "id": "42d74330",
   "metadata": {},
   "source": [
    "### -------------------------------------------------------------------------------------------------------------------------------------\n"
   ]
  },
  {
   "cell_type": "markdown",
   "id": "50e5dd2c",
   "metadata": {},
   "source": [
    "#### Q4. Why self is used in OOPs?\n",
    "- Self is the current instance of the class. \n",
    "- It is not a reserved keyword but a convention to use the variable name as self.\n",
    "- It binds the instance of the class with instance method of the class.\n",
    "- self is explicitly defined as the first argument in every method of the class to access the variable and methods."
   ]
  },
  {
   "cell_type": "markdown",
   "id": "afc73a8d",
   "metadata": {},
   "source": [
    "### -------------------------------------------------------------------------------------------------------------------------------------\n"
   ]
  },
  {
   "cell_type": "markdown",
   "id": "a6a93054",
   "metadata": {},
   "source": [
    "#### Q5. What is inheritance? Give an example for each type of inheritance.\n",
    "- Inheritance in programming allows the programmer to reuse the code and make the code reliable. It is the concept in which derived classes gets access to the traits and properties of the super class. Constructor, attributes and methods gets inherited to the child class whereas the parent class has no access to the child class."
   ]
  },
  {
   "cell_type": "markdown",
   "id": "eae8687f",
   "metadata": {},
   "source": [
    "##### Types of inheritance: "
   ]
  },
  {
   "cell_type": "markdown",
   "id": "d281cff4",
   "metadata": {},
   "source": [
    "#### 1. Single inheritance:\n",
    "   - child class has single parent class to inherit from."
   ]
  },
  {
   "cell_type": "code",
   "execution_count": 3,
   "id": "2f74df59",
   "metadata": {},
   "outputs": [
    {
     "name": "stdout",
     "output_type": "stream",
     "text": [
      "Inside the Father class\n",
      "Inside the Son class\n"
     ]
    }
   ],
   "source": [
    "# Example code: single inheritance\n",
    "\n",
    "class Father:\n",
    "    \n",
    "    def fun1(self):\n",
    "        print(\"Inside the Father class\")\n",
    "    \n",
    "class Son(Father):         \n",
    "    \n",
    "    def fun2(self):\n",
    "        print(\"Inside the Son class\")\n",
    "        \n",
    "son_obj=Son()\n",
    "\n",
    "son_obj.fun1()        # Class son has access to the methods of Father class \n",
    "son_obj.fun2()"
   ]
  },
  {
   "cell_type": "markdown",
   "id": "78a31b8d",
   "metadata": {},
   "source": [
    "#### 2. Multi-level Inheritancce\n",
    "- A chain of inheritance is present where the child class can inherit from all the Superclasses."
   ]
  },
  {
   "cell_type": "code",
   "execution_count": 4,
   "id": "29f58519",
   "metadata": {},
   "outputs": [
    {
     "name": "stdout",
     "output_type": "stream",
     "text": [
      "Inside the Grandfather class\n",
      "Inside the Father class\n",
      "Inside the Son Class\n"
     ]
    }
   ],
   "source": [
    "# Example code: Multi-level inheritance\n",
    "\n",
    "class Grandfather:\n",
    "    \n",
    "    def fun1(self):\n",
    "        print(\"Inside the Grandfather class\")\n",
    "\n",
    "class Father(Grandfather):\n",
    "    \n",
    "    def fun2(self):\n",
    "        print(\"Inside the Father class\")\n",
    "        \n",
    "class Son(Father):\n",
    "    \n",
    "    def fun3(self):\n",
    "        print(\"Inside the Son Class\")\n",
    "        \n",
    "son_obj2 = Son()  # Creating Object Son class\n",
    "\n",
    "son_obj2.fun1()   # Accessing method of Grandfather class using Son' s object\n",
    "son_obj2.fun2()   # Accessing method of Father class using Son' s object\n",
    "son_obj2.fun3()"
   ]
  },
  {
   "cell_type": "markdown",
   "id": "e3e999bd",
   "metadata": {},
   "source": [
    "#### 3. Hierarchical inheritance:\n",
    "- When multiple child class inherits from single parent class."
   ]
  },
  {
   "cell_type": "code",
   "execution_count": 5,
   "id": "9d1cb74c",
   "metadata": {},
   "outputs": [
    {
     "name": "stdout",
     "output_type": "stream",
     "text": [
      "Inside the parent class through child1' s object\n",
      "\r\n",
      "Inside the parent class through child2' s object\n"
     ]
    }
   ],
   "source": [
    "# Example code: Hierarchical inheritance\n",
    "\n",
    "class parent:\n",
    "    \n",
    "    def __init__(self, name, age):\n",
    "        self.name=name\n",
    "        self.age=age\n",
    "\n",
    "    def fun1(self):\n",
    "        print(f\"Inside the parent class through child1' s object\")\n",
    "        \n",
    "    def fun2(self):\n",
    "        print(f\"Inside the parent class through child2' s object\")\n",
    "\n",
    "class child1(parent):\n",
    "    pass\n",
    "\n",
    "class child2(parent):\n",
    "    pass\n",
    "\n",
    "child1_obj = child1('Bayern',55)\n",
    "child1_obj.fun1()\n",
    "print(\"\\r\")\n",
    "child2_obj = child2('Southee', 45)\n",
    "child2_obj.fun2()"
   ]
  },
  {
   "cell_type": "markdown",
   "id": "51d57cd5",
   "metadata": {},
   "source": [
    "#### 4. Multiple inheritance\n",
    "- When derived class inherits from multiple superclasses"
   ]
  },
  {
   "cell_type": "code",
   "execution_count": 6,
   "id": "22293f3a",
   "metadata": {
    "scrolled": true
   },
   "outputs": [
    {
     "name": "stdout",
     "output_type": "stream",
     "text": [
      "Inside Father class through child' s object\n",
      "\r\n",
      "Inside Mother class through child' s object\n"
     ]
    }
   ],
   "source": [
    "class Father:\n",
    "    \n",
    "    def fun1(self):\n",
    "        print(\"Inside Father class through child' s object\")\n",
    "        \n",
    "class Mother:\n",
    "     \n",
    "    def fun2(self):\n",
    "        print(\"Inside Mother class through child' s object\")\n",
    "        \n",
    "class child(Father, Mother):\n",
    "    pass\n",
    "\n",
    "child_obj = child()\n",
    "\n",
    "child_obj.fun1()\n",
    "print(\"\\r\")\n",
    "child_obj.fun2()"
   ]
  },
  {
   "cell_type": "markdown",
   "id": "64749ef3",
   "metadata": {},
   "source": [
    "### -------------------------------------------------------------END----------------------------------------------------------"
   ]
  }
 ],
 "metadata": {
  "kernelspec": {
   "display_name": "Python 3 (ipykernel)",
   "language": "python",
   "name": "python3"
  },
  "language_info": {
   "codemirror_mode": {
    "name": "ipython",
    "version": 3
   },
   "file_extension": ".py",
   "mimetype": "text/x-python",
   "name": "python",
   "nbconvert_exporter": "python",
   "pygments_lexer": "ipython3",
   "version": "3.10.4"
  }
 },
 "nbformat": 4,
 "nbformat_minor": 5
}
