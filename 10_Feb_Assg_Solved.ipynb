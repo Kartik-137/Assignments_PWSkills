{
 "cells": [
  {
   "cell_type": "markdown",
   "id": "83646761",
   "metadata": {},
   "source": [
    "# Assignment on File Handling in Python "
   ]
  },
  {
   "cell_type": "markdown",
   "id": "47a43dd0",
   "metadata": {},
   "source": [
    "### --------------------------------------------------------------------------------------------------------------------------------------------------------------"
   ]
  },
  {
   "cell_type": "markdown",
   "id": "6347de36",
   "metadata": {},
   "source": [
    "#### Q1. Which function is used to open a file? What are the different modes of opening a file? Explain each mode of file opening.\n",
    "- Files can be opened using the **open()** in python. It creates a file handler object which then can be used for further manipulations\n",
    "- Files can be opened in the following different modes:\n",
    "    1. Read only ('r')\n",
    "        - Opens a text file for reading only.\n",
    "        - 'rb' for opening the binary file in reading mode.\n",
    "    \n",
    "    2. Write only ('w')\n",
    "        - Opens the text file for writing content into it.\n",
    "        - 'wb' for opening the binary file in writing mode.\n",
    "    3. Create ('x')\n",
    "        - Creates a new file and opens the file in writing mode\n",
    "        \n",
    "    4. Append only ('a')\n",
    "        - Opens the file in writing mode.\n",
    "        - Unlike the 'w' mode which overwrites the previous content in the file, the 'a' mode puts the handle at the end of file thus adding the content at the end and the previous content remains unchanged."
   ]
  },
  {
   "cell_type": "markdown",
   "id": "50501ee8",
   "metadata": {},
   "source": [
    "#### ----------------------------------------------------------------------------------------------------------------------------------------------------------------------------------"
   ]
  },
  {
   "cell_type": "markdown",
   "id": "2616eb6c",
   "metadata": {},
   "source": [
    "#### Q2. Why close() function is used? Why is it important to close a file?\n",
    "- close() in file is used for closing the file, once the operations with the file is over. Return type of close() is NoneType\n",
    "- It is important to close the file because of the following reasons:\n",
    "    - Saves the program resources\n",
    "    - protect against hard to debug issues like running out of file handles or experiencing corrupted data.\n",
    "    - To let the changes in file happen, once the operations with the file is over."
   ]
  },
  {
   "cell_type": "markdown",
   "id": "d8f7a56c",
   "metadata": {},
   "source": [
    "#### ----------------------------------------------------------------------------------------------------------------------------------------------------------------------------------"
   ]
  },
  {
   "cell_type": "markdown",
   "id": "a96059ba",
   "metadata": {},
   "source": [
    "#### Q3. Write a python program to create a text file. Write ‘I want to become a Data Scientist’ in that file. Then close the file. Open this file and read the content of the file.  \n"
   ]
  },
  {
   "cell_type": "code",
   "execution_count": 1,
   "id": "2a368c78",
   "metadata": {},
   "outputs": [],
   "source": [
    "# Program for Q3\n",
    "\n",
    "# Opening the file and writing content in it\n",
    "file = open(\"sample.txt\",\"w\")\n",
    "file.write(\"I want to become a Data Scientist\")\n",
    "file.close()"
   ]
  },
  {
   "cell_type": "code",
   "execution_count": 2,
   "id": "db552326",
   "metadata": {},
   "outputs": [
    {
     "name": "stdout",
     "output_type": "stream",
     "text": [
      "I want to become a Data Scientist\n"
     ]
    }
   ],
   "source": [
    "# Reading the content in the file\n",
    "with open('sample.txt','r') as file:\n",
    "    print(file.read())"
   ]
  },
  {
   "cell_type": "markdown",
   "id": "0a3683d1",
   "metadata": {},
   "source": [
    "#### ----------------------------------------------------------------------------------------------------------------------------------------------------------------------------------"
   ]
  },
  {
   "cell_type": "markdown",
   "id": "908e6b6f",
   "metadata": {},
   "source": [
    "#### Q4. Explain the following with python code: read(), readline() and readlines()."
   ]
  },
  {
   "cell_type": "markdown",
   "id": "5296477a",
   "metadata": {},
   "source": [
    "- **read()** function returns the specified bytes in the file. If bytes are not specified then by default it returns the whole content from the file in one go. It consumes a lot of memory. Hence, it is better to use it for small files\n",
    "- **readline()** returns next line from the file including the newline character. If bytes are specified then returns atmost the number of bytes. Good for processing large files.\n",
    "- **readlines()** reads the entire content of the file and returns list of strings wherein each element is a single line of the file. Good for readin small file. "
   ]
  },
  {
   "cell_type": "code",
   "execution_count": 3,
   "id": "d1121450",
   "metadata": {},
   "outputs": [],
   "source": [
    "# Creating a file:\n",
    "\n",
    "with open(\"Sample2.txt\",\"w\") as f:\n",
    "    f.write(\"\"\"Data science combines math and statistics, specialized programming, \n",
    "    advanced analytics, artificial intelligence (AI), and machine learning with \n",
    "    specific subject matter expertise to uncover actionable insights hidden in an \n",
    "    organization’s data. These insights can be used to guide decision making and strategic planning.\"\"\")"
   ]
  },
  {
   "cell_type": "code",
   "execution_count": 4,
   "id": "932f7f4b",
   "metadata": {},
   "outputs": [
    {
     "name": "stdout",
     "output_type": "stream",
     "text": [
      "Data science combines math and statistics, specialized programming, \n",
      "    advanced analytics, artific\n",
      "\n",
      "###############\n",
      "\n",
      "Cursor in the file is at:  101 \n",
      "\n",
      "ial intelligence (AI), and machine learning with \n",
      "    specific subject matter expertise to uncover actionable insights hidden in an \n",
      "    organization’s data. These insights can be used to guide decision making and strategic planning.\n"
     ]
    }
   ],
   "source": [
    "# Example code for read(): \n",
    "\n",
    "with open(\"Sample2.txt\",\"r\") as f:\n",
    "    print(f.read(100))       # read the first 15 characters and print them\n",
    "    print(\"\\n###############\\n\")\n",
    "    print(\"Cursor in the file is at: \",f.tell(),\"\\n\")\n",
    "    print(f.read())         # read the whole content and print it\n"
   ]
  },
  {
   "cell_type": "code",
   "execution_count": 5,
   "id": "e8b4b3d9",
   "metadata": {
    "scrolled": true
   },
   "outputs": [
    {
     "name": "stdout",
     "output_type": "stream",
     "text": [
      "Data science combines math and statistics, specialized programming, \n",
      "\n",
      "    advanced analytics, artificial intelligence (AI), and machine learning with \n",
      "\n",
      "    specific subject\n"
     ]
    }
   ],
   "source": [
    "# Example code for readline():\n",
    "\n",
    "with open('Sample2.txt','r') as f:\n",
    "    print(f.readline())         # Reads the 1st line and prints it\n",
    "    print(f.readline())         # Reads the 2nd line and prints it\n",
    "    print(f.readline(20))       # Reads 20 character from 3rd line and prints it"
   ]
  },
  {
   "cell_type": "code",
   "execution_count": 6,
   "id": "451cf74f",
   "metadata": {},
   "outputs": [
    {
     "name": "stdout",
     "output_type": "stream",
     "text": [
      "['Data science combines math and statistics, specialized programming, \\n', '    advanced analytics, artificial intelligence (AI), and machine learning with \\n', '    specific subject matter expertise to uncover actionable insights hidden in an \\n', '    organization’s data. These insights can be used to guide decision making and strategic planning.']\n"
     ]
    }
   ],
   "source": [
    "# Example code for readlines():\n",
    "\n",
    "with open(\"Sample2.txt\",\"r\") as f:\n",
    "    print(f.readlines())     # reads the whole content and returns a list of all the lines in file. "
   ]
  },
  {
   "cell_type": "markdown",
   "id": "44fd7bbb",
   "metadata": {},
   "source": [
    "#### Q5. Explain why with statement is used with open(). What is the advantage of using with statement and open() together?\n",
    "- The **with** statement is used with **open()** for opening the files in the different modes. \n",
    "- It is advantageous to use the with statement to open the files as:\n",
    "    - It closes the file without explicit calling of **close()**\n",
    "    - It prevents resource leak and makes the code concise and readable."
   ]
  },
  {
   "cell_type": "markdown",
   "id": "f31d9e87",
   "metadata": {},
   "source": [
    "#### Q6. Explain the write() and writelines() functions. Give a suitable example.\n",
    "- **write()** function writes the whole content to the file without adding any extra character, not even newline ('\\n') character at the end of the file. It returns NoneType\n",
    "- **writelines()** accepts a list of strings and writes that into the file. It does not add '\\n' at the end of the file.\n"
   ]
  },
  {
   "cell_type": "code",
   "execution_count": 7,
   "id": "83dd85c0",
   "metadata": {},
   "outputs": [],
   "source": [
    "# Example code for write():\n",
    "\n",
    "with open(\"Sample3.txt\",\"w\") as f:\n",
    "    f.write(\"This is a sample file written using write() in python\")"
   ]
  },
  {
   "cell_type": "code",
   "execution_count": 8,
   "id": "948b68d0",
   "metadata": {},
   "outputs": [],
   "source": [
    "# Example code for writelines():\n",
    "\n",
    "lst_strings = ['This is a sample\\n', 'file written using', ' writeline() in python']\n",
    "with open(\"Sample4.txt\",\"w\") as f:\n",
    "    f.writelines(lst_strings)"
   ]
  }
 ],
 "metadata": {
  "kernelspec": {
   "display_name": "Python 3 (ipykernel)",
   "language": "python",
   "name": "python3"
  },
  "language_info": {
   "codemirror_mode": {
    "name": "ipython",
    "version": 3
   },
   "file_extension": ".py",
   "mimetype": "text/x-python",
   "name": "python",
   "nbconvert_exporter": "python",
   "pygments_lexer": "ipython3",
   "version": "3.10.4"
  }
 },
 "nbformat": 4,
 "nbformat_minor": 5
}
