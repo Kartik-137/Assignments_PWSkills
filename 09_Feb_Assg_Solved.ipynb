{
 "cells": [
  {
   "cell_type": "markdown",
   "id": "004f69c1",
   "metadata": {},
   "source": [
    "# 09 Feb Assignment Solved"
   ]
  },
  {
   "cell_type": "markdown",
   "id": "b925bca7",
   "metadata": {},
   "source": [
    "#### --------------------------------------------------------------------------------------------------------------------------------------------------------------"
   ]
  },
  {
   "cell_type": "markdown",
   "id": "14756680",
   "metadata": {},
   "source": [
    "#### Q1. Create a vehicle class with an init method having instance variables as name_of_vehicle, max_speed and average_of_vehicle. \n",
    "\n"
   ]
  },
  {
   "cell_type": "code",
   "execution_count": 1,
   "id": "57a97bb1",
   "metadata": {},
   "outputs": [],
   "source": [
    "# Code for Q1\n",
    "\n",
    "class vehicle:\n",
    "    \n",
    "    def __init__(self, name_of_vehicle, max_speed, average_of_vehicle):\n",
    "        \n",
    "        self.name_of_vehicle = name_of_vehicle \n",
    "        self.max_speed = max_speed\n",
    "        self.average_of_vehicle = average_of_vehicle"
   ]
  },
  {
   "cell_type": "markdown",
   "id": "5b26d03b",
   "metadata": {},
   "source": [
    "#### --------------------------------------------------------------------------------------------------------------------------------------------------------------"
   ]
  },
  {
   "cell_type": "markdown",
   "id": "de649442",
   "metadata": {},
   "source": [
    "#### Q2.  Create a child class car from the vehicle class created in Que 1, which will inherit the vehicle class. Create a method named seating_capacity which takes capacity as an argument and returns the name of the vehicle and its seating capacity.\n",
    "\n"
   ]
  },
  {
   "cell_type": "code",
   "execution_count": 2,
   "id": "cd53aafa",
   "metadata": {},
   "outputs": [
    {
     "name": "stdout",
     "output_type": "stream",
     "text": [
      "Name of the vehicle: Tesla\n",
      "Seating capacity: 5\n"
     ]
    }
   ],
   "source": [
    "# Code for Q2\n",
    "\n",
    "class car(vehicle):  # Child class car inheriting parent class vehicle\n",
    "    \n",
    "    def __init__(self, name_of_vehicle, max_speed, average_of_vehicle, capacity):\n",
    "        self.capacity = capacity\n",
    "        vehicle.__init__(self, name_of_vehicle, max_speed, average_of_vehicle)\n",
    "        \n",
    "    def seating_capacity(self, capacity):\n",
    "        print(f\"Name of the vehicle: {self.name_of_vehicle}\\nSeating capacity: {self.capacity}\")\n",
    "        \n",
    "\n",
    "# Creating object of the car class\n",
    "car_obj = car(\"Tesla\", 150, 25, 5)\n",
    "        \n",
    "# Calling the method of the child class\n",
    "car_obj.seating_capacity(5)"
   ]
  },
  {
   "cell_type": "markdown",
   "id": "1b63aa06",
   "metadata": {},
   "source": [
    "#### --------------------------------------------------------------------------------------------------------------------------------------------------------------"
   ]
  },
  {
   "cell_type": "markdown",
   "id": "54922b24",
   "metadata": {},
   "source": [
    "#### Q3. What is multiple inheritance? Write a python code to demonstrate multiple inheritance.\n",
    "- Multiple inheritance is the type of inheritance in object oriented programming in which a derived class can inherit from several parent classes. In this way the derived class gets access to all the properties and members of the base classes it is inheriting from. Multiple inheritance makes the code reusable and flexible to use."
   ]
  },
  {
   "cell_type": "code",
   "execution_count": 3,
   "id": "ad5c8549",
   "metadata": {},
   "outputs": [
    {
     "name": "stdout",
     "output_type": "stream",
     "text": [
      "Inside Father class through child' s object\n",
      "\r\n",
      "Inside Mother class through child' s object\n"
     ]
    }
   ],
   "source": [
    "# Code for multiple inheritance\n",
    "\n",
    "class Father:\n",
    "    \n",
    "    def fun1(self):\n",
    "        print(\"Inside Father class through child' s object\")\n",
    "        \n",
    "class Mother:\n",
    "     \n",
    "    def fun2(self):\n",
    "        print(\"Inside Mother class through child' s object\")\n",
    "        \n",
    "class child(Father, Mother):\n",
    "    pass\n",
    "\n",
    "child_obj = child()\n",
    "\n",
    "child_obj.fun1()\n",
    "print(\"\\r\")\n",
    "child_obj.fun2()"
   ]
  },
  {
   "cell_type": "markdown",
   "id": "4b0bdf90",
   "metadata": {},
   "source": [
    "#### --------------------------------------------------------------------------------------------------------------------------------------------------------------"
   ]
  },
  {
   "cell_type": "markdown",
   "id": "f1d31163",
   "metadata": {},
   "source": [
    "#### Q4. What are getter and setter in python? Create a class and create a getter and a setter method in this class.\n",
    "- getter and setter in python are special methods which are used for ensuring data encapsulation in object oriented programs. \n",
    "- A getter is used for accessing the value of a private attribute whereas a setter is used for modifying the private attribute' s value.\n",
    "- In pyhton the getter and setter behaviour can be achieved using python' s built-in decorator @property. It is wrapped around any method and treats the method as a property of the class"
   ]
  },
  {
   "cell_type": "code",
   "execution_count": 4,
   "id": "580a5eef",
   "metadata": {},
   "outputs": [],
   "source": [
    "# Code for Q4:\n",
    "\n",
    "class car:\n",
    "    \n",
    "    def __init__(self,model, owner):\n",
    "        self.model = model\n",
    "        self.owner = owner\n",
    "        self._license_plate = 1234          # num_plate is a private attribute of class car\n",
    "        \n",
    "    @property\n",
    "    def get_license_plate(self):            # getter function displays value of the private attribute outside the classb\n",
    "        print(\"getter function called to display vehicle license plate: \")\n",
    "        return self._license_plate\n",
    "         \n",
    "    @get_license_plate.setter               # setter method for the get_license_plate property\n",
    "    def set_license_plate(self, new_platenum):\n",
    "        if type(new_platenum) != int or new_platenum%10 != 4:\n",
    "            print(\"Invalid plate number\")\n",
    "        else:\n",
    "            self._license_plate = new_platenum\n",
    "            print(\"New plate number assigned!\")\n",
    "    "
   ]
  },
  {
   "cell_type": "code",
   "execution_count": 5,
   "id": "10d26c1d",
   "metadata": {},
   "outputs": [],
   "source": [
    "obj = car(\"T55\", \"kartik\")    # Creating instance of the class car"
   ]
  },
  {
   "cell_type": "code",
   "execution_count": 6,
   "id": "6dd7c98f",
   "metadata": {},
   "outputs": [
    {
     "name": "stdout",
     "output_type": "stream",
     "text": [
      "getter function called to display vehicle license plate: \n"
     ]
    },
    {
     "data": {
      "text/plain": [
       "1234"
      ]
     },
     "execution_count": 6,
     "metadata": {},
     "output_type": "execute_result"
    }
   ],
   "source": [
    "obj.get_license_plate   # getter method call requires no paranthesis"
   ]
  },
  {
   "cell_type": "code",
   "execution_count": 7,
   "id": "47ec3b43",
   "metadata": {},
   "outputs": [
    {
     "name": "stdout",
     "output_type": "stream",
     "text": [
      "Invalid plate number\n"
     ]
    }
   ],
   "source": [
    "obj.set_license_plate = 20   # Trying to modify the private attribute"
   ]
  },
  {
   "cell_type": "markdown",
   "id": "af92ff5d",
   "metadata": {},
   "source": [
    "#### --------------------------------------------------------------------------------------------------------------------------------------------------------------"
   ]
  },
  {
   "cell_type": "markdown",
   "id": "ac619da8",
   "metadata": {},
   "source": [
    "#### Q5.What is method overriding in python? Write a python code to demonstrate method overriding.\n",
    "- When the parent class and child class has same methods, then the method in the subclass is said to override the method in the super-class.\n",
    "- The instance of the class created decides which version of the method will be executed first.\n",
    "- If the object of parent class is used to invoke the method then version in the parent class gets executed. If the object of child class is used to invoke the method then version in child class gets executed"
   ]
  },
  {
   "cell_type": "code",
   "execution_count": 8,
   "id": "506f4a1f",
   "metadata": {},
   "outputs": [],
   "source": [
    "# Code for Q5:\n",
    "\n",
    "class vehicle:   # Parent class\n",
    "    \n",
    "    def __init__(self, wheels, max_speed, capacity):\n",
    "        print(\"Inside constructor of vehicle class...\")\n",
    "        self.wheels = wheels\n",
    "        self.max_speed = max_speed\n",
    "        self.capacity = capacity\n",
    "    \n",
    "    def seating_capacity(self):   \n",
    "        print(f\"seating capacity in this vehicle: {self.capacity}\")\n",
    "        \n",
    "class car(vehicle):   # Child class\n",
    "    \n",
    "    def seating_capacity(self):\n",
    "        print(f\"seating capacity in this car: {self.capacity}\")"
   ]
  },
  {
   "cell_type": "code",
   "execution_count": 9,
   "id": "3f3c9922",
   "metadata": {
    "scrolled": true
   },
   "outputs": [
    {
     "name": "stdout",
     "output_type": "stream",
     "text": [
      "Inside constructor of vehicle class...\n",
      "seating capacity in this car: 5\n"
     ]
    }
   ],
   "source": [
    "child_obj = car(4, 200, 5)\n",
    "child_obj.seating_capacity()"
   ]
  },
  {
   "cell_type": "markdown",
   "id": "b137d52b",
   "metadata": {},
   "source": [
    "### ---------------------------------------------------------END-------------------------------------------------------"
   ]
  }
 ],
 "metadata": {
  "kernelspec": {
   "display_name": "Python 3 (ipykernel)",
   "language": "python",
   "name": "python3"
  },
  "language_info": {
   "codemirror_mode": {
    "name": "ipython",
    "version": 3
   },
   "file_extension": ".py",
   "mimetype": "text/x-python",
   "name": "python",
   "nbconvert_exporter": "python",
   "pygments_lexer": "ipython3",
   "version": "3.10.4"
  }
 },
 "nbformat": 4,
 "nbformat_minor": 5
}
