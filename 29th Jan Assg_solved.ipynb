{
 "cells": [
  {
   "cell_type": "markdown",
   "id": "c50259b9",
   "metadata": {},
   "source": [
    "### Q.1 Who developed Python programming Language?\n",
    "### Sol1: \n",
    "- Python is general purpose, high-level programming language which was developed in 1991 by a Dutch programmer named Guido van Rossum."
   ]
  },
  {
   "cell_type": "markdown",
   "id": "49b1c8e8",
   "metadata": {},
   "source": [
    "### ---------------------------------------------------------------------------------------------------------------------------------------------------------"
   ]
  },
  {
   "cell_type": "markdown",
   "id": "f2e9590d",
   "metadata": {},
   "source": [
    "### Q.2 Which type of programming language does python support?\n",
    "### Sol2:\n",
    "- Python is general purpose, high-level programming language which supports structured, object-oriented and function programming."
   ]
  },
  {
   "cell_type": "markdown",
   "id": "07e6c594",
   "metadata": {},
   "source": [
    "### ---------------------------------------------------------------------------------------------------------------------------------------------------------"
   ]
  },
  {
   "cell_type": "markdown",
   "id": "57b22f99",
   "metadata": {},
   "source": [
    "### Q.3 Is python case sensitive when dealing with identifiers?\n",
    "### Sol3:\n",
    "- As python is case sensitive language, it treats lowercase and uppercase characters differently. This case sensitivity affects the identifiers of python too."
   ]
  },
  {
   "cell_type": "markdown",
   "id": "ac3ef38a",
   "metadata": {},
   "source": [
    "### ---------------------------------------------------------------------------------------------------------------------------------------------------------"
   ]
  },
  {
   "cell_type": "markdown",
   "id": "98cccdb5",
   "metadata": {},
   "source": [
    "### Q.4 What is the correct extension of the python file?\n",
    "### Sol4:\n",
    "- The standard extension for python source code files is **.py**"
   ]
  },
  {
   "cell_type": "markdown",
   "id": "b633365c",
   "metadata": {},
   "source": [
    "### ---------------------------------------------------------------------------------------------------------------------------------------------------------"
   ]
  },
  {
   "cell_type": "markdown",
   "id": "00c12968",
   "metadata": {},
   "source": [
    "### Q.5 Is python code compiled or interpreted?\n",
    "### Sol5:\n",
    "- The python code is first compiled and then interpreted."
   ]
  },
  {
   "cell_type": "markdown",
   "id": "1be12cf2",
   "metadata": {},
   "source": [
    "### ---------------------------------------------------------------------------------------------------------------------------------------------------------"
   ]
  },
  {
   "cell_type": "markdown",
   "id": "524239ff",
   "metadata": {},
   "source": [
    "### Q.6 Name a few blocks of code used to define in python language?\n",
    "### Sol6:\n",
    "- Indentation is used to define a block of code in python. Python indentation is compulsory. Unlike curly-brackets { } which are used in most programming languages like C,C++ and Java, in Python whitespaces are used for indentation. \n",
    "- All statements with the same distance to the right belong to the same block of code. If a block has to be more deeply nested, it is simply indented further to the right. "
   ]
  },
  {
   "cell_type": "markdown",
   "id": "dc8e2d35",
   "metadata": {},
   "source": [
    "### ---------------------------------------------------------------------------------------------------------------------------------------------------------"
   ]
  },
  {
   "cell_type": "markdown",
   "id": "08bf393d",
   "metadata": {},
   "source": [
    "### Q.7 State a character used to give single-line comments in Python.\n",
    "### Sol7:\n",
    "- In python a single line comment are written after the hash (#) character."
   ]
  },
  {
   "cell_type": "code",
   "execution_count": null,
   "id": "47a789c5",
   "metadata": {},
   "outputs": [],
   "source": [
    "# This is a comment in python."
   ]
  },
  {
   "cell_type": "markdown",
   "id": "7ba5afc0",
   "metadata": {},
   "source": [
    "### ---------------------------------------------------------------------------------------------------------------------------------------------------------"
   ]
  },
  {
   "cell_type": "markdown",
   "id": "bee99488",
   "metadata": {},
   "source": [
    "### Q.8 Mention functions which can help us to find the version of python that we are currently working on?\n",
    "### Sol8:\n",
    "- To know the python version a user is currently working on we can use:\n",
    "  1. sys.version method\n",
    "   - To use this user has to import the sys library in python.\n",
    "  2. python_version() function\n",
    "   - To use this user has to import the platform library.\n",
    "  3. python -V command\n",
    "   - To use this user has to type python -V in the terminal."
   ]
  },
  {
   "cell_type": "code",
   "execution_count": 3,
   "id": "204de7c0",
   "metadata": {},
   "outputs": [
    {
     "name": "stdout",
     "output_type": "stream",
     "text": [
      "Python current version in the system: \n",
      " 3.10.4 (tags/v3.10.4:9d38120, Mar 23 2022, 23:13:41) [MSC v.1929 64 bit (AMD64)]\n"
     ]
    }
   ],
   "source": [
    "## sys.version method\n",
    "import sys \n",
    "print(\"Python current version in the system: \\n\",sys.version)"
   ]
  },
  {
   "cell_type": "code",
   "execution_count": 5,
   "id": "0fd96f71",
   "metadata": {},
   "outputs": [
    {
     "name": "stdout",
     "output_type": "stream",
     "text": [
      "Python current version in the system: \n",
      " 3.10.4\n"
     ]
    }
   ],
   "source": [
    "## python_version() function\n",
    "from platform import python_version\n",
    "print(\"Python current version in the system: \\n\",python_version())"
   ]
  },
  {
   "cell_type": "markdown",
   "id": "32016f7b",
   "metadata": {},
   "source": [
    "### ---------------------------------------------------------------------------------------------------------------------------------------------------------"
   ]
  },
  {
   "cell_type": "markdown",
   "id": "5508d113",
   "metadata": {},
   "source": [
    "### Q.9 Python supports the creation of anonymous functions at runtime, using a construct called ----------\n",
    "### Sol9:\n",
    "- Python supports the creation of anonymous functions at runtime, using a construct called **lambda**"
   ]
  },
  {
   "cell_type": "markdown",
   "id": "567b9dd9",
   "metadata": {},
   "source": [
    "### ---------------------------------------------------------------------------------------------------------------------------------------------------------"
   ]
  },
  {
   "cell_type": "markdown",
   "id": "a061056b",
   "metadata": {},
   "source": [
    "### Q.10 What does pip stands for in python?\n",
    "### Sol10:\n",
    "- **pip** is ancronym for pip Install Packages which is the package manager for python packages and comes pre-installed  on 3.4 or older versions of Python. With **pip** a user can:\n",
    "    1. install packages that do not come with python.\n",
    "    2. uinstall packages.\n",
    "    3. display package information."
   ]
  },
  {
   "cell_type": "markdown",
   "id": "8e811c1c",
   "metadata": {},
   "source": [
    "### ---------------------------------------------------------------------------------------------------------------------------------------------------------"
   ]
  },
  {
   "cell_type": "markdown",
   "id": "f0901c44",
   "metadata": {},
   "source": [
    "### Q.11 Metion a few built-in functions in python?\n",
    "### Sol11:\n",
    "- Some examples of built-in functions in python are:\n",
    "    1. print() \n",
    "    2. type()\n",
    "    3. bin()\n",
    "    4. dir()"
   ]
  },
  {
   "cell_type": "markdown",
   "id": "55fea829",
   "metadata": {},
   "source": [
    "### ---------------------------------------------------------------------------------------------------------------------------------------------------------"
   ]
  },
  {
   "cell_type": "markdown",
   "id": "a74a7347",
   "metadata": {},
   "source": [
    "### Q.12 What is the maximum possible length of an identifier in Python?\n",
    "### Sol12:\n",
    "- An identifier in python can maximum of 79 characters."
   ]
  },
  {
   "cell_type": "markdown",
   "id": "e3517d9d",
   "metadata": {},
   "source": [
    "### ---------------------------------------------------------------------------------------------------------------------------------------------------------"
   ]
  },
  {
   "cell_type": "markdown",
   "id": "a01a2721",
   "metadata": {},
   "source": [
    "### Q.13 What are the benefits of using python?\n",
    "### Sol13:\n",
    "- Python is a simple to learn and easy to use language which has the following benefits.\n",
    "1. Large number of libraries i.e more than 137000 of them.\n",
    "2. Code-readability\n",
    "3. Dynamically typed\n",
    "4. Object-Oriented and Procedural  Programming language"
   ]
  },
  {
   "cell_type": "markdown",
   "id": "b4609651",
   "metadata": {},
   "source": [
    "### ---------------------------------------------------------------------------------------------------------------------------------------------------------"
   ]
  },
  {
   "cell_type": "markdown",
   "id": "2c4b809c",
   "metadata": {},
   "source": [
    "### Q.14 How is memory management in python ?\n",
    "### Sol14:\n",
    "- Memory management in python is done by python's internal memory manager.\n",
    "- This manager is responsible to manage memory allocation, deallocation \n",
    "  and various other processes.\n",
    "- A python process has two types of memory allocated to it.\n",
    "  1. Static memory allocation: \n",
    "    - Memory is allocated to the object at the time of compilation.\n",
    "  2. Dynamic memory allocation:\n",
    "    - Memory is allocated to the object at the runtime.\n",
    "- **Garbage Collection**:\n",
    "  - A process in which the interpreter frees up the space when not in use and     makes it available to other objects.\n",
    "- **Reference Counting**:\n",
    "  - It is the process of counting the number of time an object is referenced     by other objects.\n",
    "  - In such case when reference to an object is removed, the reference count     for an object becomes zero and the memory is deallocated.\n"
   ]
  },
  {
   "cell_type": "markdown",
   "id": "fa6f1149",
   "metadata": {},
   "source": [
    "### ---------------------------------------------------------------------------------------------------------------------------------------------------------"
   ]
  },
  {
   "cell_type": "markdown",
   "id": "7e786a93",
   "metadata": {},
   "source": [
    "### Q.15 How to install Python on Windows and set path varibles?\n",
    "### Sol15:\n",
    "- To install Python on windows:\n",
    "  1. Goto www.python.org. \n",
    "  2. Navigate to **Downloads** tab and select the windows option according\n",
    "     to your windows configuration.\n",
    "  3. Download the Python version.\n",
    "  4. Run the setup for installation process.\n",
    "- To set path variables:\n",
    "  1. Right click on My computer.\n",
    "  2. Navigate to properties.\n",
    "  3. Advanced system setting.\n",
    "  4. Click Environment variable and then click New.\n",
    "  5. Write **path** in **Variable name**.\n",
    "  6. In **Variable value** paste the location where python is installed."
   ]
  },
  {
   "cell_type": "markdown",
   "id": "0021c33a",
   "metadata": {},
   "source": [
    "### ---------------------------------------------------------------------------------------------------------------------------------------------------------"
   ]
  },
  {
   "cell_type": "markdown",
   "id": "73507f5d",
   "metadata": {},
   "source": [
    "### Q.16  Is indentation necessary in python?\n",
    "### Sol16:\n",
    "- Indentation is mandatory in python. Without indentation python shows up \n",
    "  IndentationError. Python indentation is a way of telling a Python      \n",
    "  interpreter that the group of statements belongs to a    particular block of code. "
   ]
  },
  {
   "cell_type": "markdown",
   "id": "9232f95e",
   "metadata": {},
   "source": [
    "##         ----------------------------------------------------End------------------------------------------------------"
   ]
  }
 ],
 "metadata": {
  "kernelspec": {
   "display_name": "Python 3 (ipykernel)",
   "language": "python",
   "name": "python3"
  },
  "language_info": {
   "codemirror_mode": {
    "name": "ipython",
    "version": 3
   },
   "file_extension": ".py",
   "mimetype": "text/x-python",
   "name": "python",
   "nbconvert_exporter": "python",
   "pygments_lexer": "ipython3",
   "version": "3.10.4"
  }
 },
 "nbformat": 4,
 "nbformat_minor": 5
}
