{
 "cells": [
  {
   "cell_type": "markdown",
   "id": "61fe1915-800b-46af-a992-f4fc362489d3",
   "metadata": {},
   "source": [
    "# 02 Feb Assignment Solved"
   ]
  },
  {
   "cell_type": "markdown",
   "id": "babf1627",
   "metadata": {},
   "source": [
    "### ----------------------------------------------------------------------------------------------------------"
   ]
  },
  {
   "cell_type": "markdown",
   "id": "2e7255bb-d2c8-4d5d-866f-b6c734936960",
   "metadata": {},
   "source": [
    "#### Q1. What are the characteristics of the tuples? Is tuple immutable?\n",
    "\n",
    "#### Sol_1: \n",
    "Tuples are one of the data containers in python and they have the following characteristics:\n",
    "1. Elements in tuples are separated by comma and enclosed in parantheses.\n",
    "- Ex. tup1 = (1,1,1.2,'string',4+5j)\n",
    "2. Tuples contain heterogeneous sequence of elements i.e elements in tuples can have different data types.\n",
    "3. Tuples are immutable as any item inside tuple cannot be manipulated."
   ]
  },
  {
   "cell_type": "markdown",
   "id": "cc420dfd-dd85-4ef3-bd98-34c8b48190fd",
   "metadata": {
    "tags": []
   },
   "source": [
    "### ----------------------------------------------------------------------------------------------------------"
   ]
  },
  {
   "cell_type": "markdown",
   "id": "a772094e-aeec-40db-bcc9-3c8e4e96294a",
   "metadata": {},
   "source": [
    "#### Q2. What are the two tuple methods in python? Give an example of each method. Give a reason why tuples have only two in-built methods as compared to Lists.\n",
    "\n",
    "#### Sol_2: \n",
    "The two tuple methods are **count()** which counts occurrence of the given element and **index()** \n",
    "which provides the index position of the first occurrence of given element. As tuples are designed in such a way that their \n",
    "items cannot be modified (immutability of tuples) in python, thus there are only two in-built methods available as compared to lists"
   ]
  },
  {
   "cell_type": "code",
   "execution_count": 1,
   "id": "1db7669b-962a-4782-a6f7-8a0112f9b7c8",
   "metadata": {},
   "outputs": [
    {
     "name": "stdout",
     "output_type": "stream",
     "text": [
      "Number of times 0 occurred in tup2: 4\n",
      "\n",
      "Index positon of first 0 in tup2: 0\n"
     ]
    }
   ],
   "source": [
    "tup2=(0,False,5,8.89,'tuples',0j,0) ## Creating tuple\n",
    "\n",
    "## Example of count() method\n",
    "print(f\"Number of times 0 occurred in tup2: {tup2.count(0)}\")\n",
    "\n",
    "## Example of index() method\n",
    "print(f\"\\nIndex positon of first 0 in tup2: {tup2.index(0)}\")"
   ]
  },
  {
   "cell_type": "markdown",
   "id": "d1347dea-2c31-44e6-b7b2-1c2915701d4a",
   "metadata": {},
   "source": [
    "### ----------------------------------------------------------------------------------------------------------"
   ]
  },
  {
   "cell_type": "markdown",
   "id": "352580ac-5145-4c98-98e9-c9e47f8afe11",
   "metadata": {},
   "source": [
    "#### Q3.  Which collection datatypes in python do not allow duplicate items? Write a code using a set to remove duplicates from the given list.\n",
    "\n",
    "List = [1, 1, 1, 2, 1, 3, 1, 4, 2, 1, 2, 2, 2, 3, 2, 4, 3, 1, 3, 2, 3, 3, 3, 4, 4, 1, 4, 2, 4, 3, 4, 4]\n",
    "\n",
    "#### Sol_1:\n",
    "**set** is one of the data structures in python which does not allow duplication of items."
   ]
  },
  {
   "cell_type": "code",
   "execution_count": 2,
   "id": "33313075-bbae-4391-9bae-e35790844dff",
   "metadata": {},
   "outputs": [
    {
     "name": "stdout",
     "output_type": "stream",
     "text": [
      "Output has no duplicates: {1, 2, 3, 4}\n"
     ]
    }
   ],
   "source": [
    "## Example code using a set to remove duplicates from the given list.\n",
    "\n",
    "set1= {1, 1, 1, 2, 1, 3, 1, 4, 2, 1, 2, 2, 2, 3, 2, 4,\\\n",
    "       3, 1, 3, 2, 3, 3, 3, 4, 4, 1, 4, 2, 4, 3, 4, 4} ## Creating set of given items in List\n",
    "print(f\"Output has no duplicates: {set1}\")"
   ]
  },
  {
   "cell_type": "markdown",
   "id": "e0a580bd-2543-4e60-8dc0-4d7ade618fdf",
   "metadata": {},
   "source": [
    "### ----------------------------------------------------------------------------------------------------------"
   ]
  },
  {
   "cell_type": "markdown",
   "id": "8812018c",
   "metadata": {},
   "source": [
    "#### Q4. Explain the difference between the union() and update() methods for a set. Give an example of each method.\n",
    "\n",
    "#### Sol_4\n",
    "- **union()** method of set is used for combining elements from two different sets whilst excluding duplicates to one single new set. It is not an inplace method.\n",
    "- **update()** method of set is used to update or add an element or an iterable to the same set. It is an inplace method"
   ]
  },
  {
   "cell_type": "code",
   "execution_count": 3,
   "id": "378b59db-6738-495b-b3fc-3e5c9e234268",
   "metadata": {
    "scrolled": true
   },
   "outputs": [
    {
     "name": "stdout",
     "output_type": "stream",
     "text": [
      "s1 union s2: {'b', 20, 69, 'a', 89, 10, 30, 79}\n",
      "\n",
      "Updated s1: {'b', 999, 20, 'a', '**', 10, 30}\n"
     ]
    }
   ],
   "source": [
    "s1={10,'a',20,'b',30}\n",
    "s2={69,79,89}\n",
    "s3={999,'**',999}\n",
    "\n",
    "# union() of s1 and s2\n",
    "print(f\"s1 union s2: {s1.union(s2)}\")\n",
    "\n",
    "# updating s1 with s3\n",
    "s1.update(s3)\n",
    "print(f\"\\nUpdated s1: {s1}\")"
   ]
  },
  {
   "cell_type": "markdown",
   "id": "5bed7781",
   "metadata": {},
   "source": [
    "### ----------------------------------------------------------------------------------------------------------"
   ]
  },
  {
   "cell_type": "markdown",
   "id": "1bb20719",
   "metadata": {},
   "source": [
    "#### Q5. What is a dictionary? Give an example. Also, state whether a dictionary is ordered or unordered.\n",
    "#### Sol_5:\n",
    "- A dictionary in python is one of the main data structures which is a collection of key, value pairs. Data values here are stored as a map unlike other data structures which only stores single items.\n",
    "- Dictionaries in python are mutable, ordered and does not allow duplicates.\n",
    "- Example: A student detail dictionary\n",
    "  - **dict1 = {'Name':'Alexander', 'Course':'Supersymmetry', 'Rollno':88}**\n",
    "- **keys** must be unique and must be of immutable data type.\n",
    "- **values** can be of any data type and can be duplicated."
   ]
  },
  {
   "cell_type": "markdown",
   "id": "a9d4d50a",
   "metadata": {},
   "source": [
    "### ----------------------------------------------------------------------------------------------------------"
   ]
  },
  {
   "cell_type": "markdown",
   "id": "b730e802",
   "metadata": {},
   "source": [
    "#### Q6. Can we create a nested dictionary? If so, please give an example by creating a simple one-level nested dictionary.\n",
    "#### Sol_6:\n",
    "- Nesting a dictionary means creating a dictionary inside a dictionary.\n",
    "- In this case the next dictionary is the value of the key in the former dictionary.\n",
    "- Example:\n",
    "  - **dict2 = {'Alexander':{'Father':'Benjamin','Age':58}, 'Bishnoi':{'Father':'Umangrao','Age':55}}**"
   ]
  },
  {
   "cell_type": "markdown",
   "id": "5f5b1f21",
   "metadata": {},
   "source": [
    "### ----------------------------------------------------------------------------------------------------------"
   ]
  },
  {
   "cell_type": "markdown",
   "id": "9f36d002",
   "metadata": {},
   "source": [
    "#### Q7. Using setdefault() method, create key named topics in the given dictionary and also add the value of the key as this list ['Python', 'Machine Learning’, 'Deep Learning']\n",
    "\n",
    "- dict1 = {'language' : 'Python', 'course': 'Data Science Masters'}"
   ]
  },
  {
   "cell_type": "code",
   "execution_count": 4,
   "id": "d01057a8",
   "metadata": {},
   "outputs": [],
   "source": [
    "dict1={'language' : 'Python', 'course': 'Data Science Masters'}"
   ]
  },
  {
   "cell_type": "code",
   "execution_count": 5,
   "id": "fb31f5ce",
   "metadata": {},
   "outputs": [
    {
     "data": {
      "text/plain": [
       "['Python', 'Machine Learning', 'Deep Learning']"
      ]
     },
     "execution_count": 5,
     "metadata": {},
     "output_type": "execute_result"
    }
   ],
   "source": [
    "# Add key named topic in dict1 with given list as value\n",
    "\n",
    "dict1.setdefault('Topic',['Python', 'Machine Learning', 'Deep Learning'])"
   ]
  },
  {
   "cell_type": "code",
   "execution_count": 6,
   "id": "e51c8025",
   "metadata": {
    "scrolled": true
   },
   "outputs": [
    {
     "data": {
      "text/plain": [
       "{'language': 'Python',\n",
       " 'course': 'Data Science Masters',\n",
       " 'Topic': ['Python', 'Machine Learning', 'Deep Learning']}"
      ]
     },
     "execution_count": 6,
     "metadata": {},
     "output_type": "execute_result"
    }
   ],
   "source": [
    "dict1"
   ]
  },
  {
   "cell_type": "markdown",
   "id": "34eea097",
   "metadata": {},
   "source": [
    "### ----------------------------------------------------------------------------------------------------------"
   ]
  },
  {
   "cell_type": "markdown",
   "id": "bd55e004",
   "metadata": {},
   "source": [
    "#### Q8. What are the three view objects in dictionaries? Use the three in-built methods in python to display these three view objects for the given dictionary.\n",
    "\n",
    "- dict1 = {'Sport': 'Cricket' , 'Teams': ['India', 'Australia', 'England', 'South Africa', 'Sri Lanka', 'New Zealand']}"
   ]
  },
  {
   "cell_type": "markdown",
   "id": "1ccc1940",
   "metadata": {},
   "source": [
    "- The three view objects in python are:\n",
    "1. **keys()**: method retrieves a list of the dictionary keys in the order of insertion.  \n",
    "2. **values()**: method retrieves a list of the dictionary values in the order of insertion.\n",
    "3. **items()**: method returns all the key, value pair in a list."
   ]
  },
  {
   "cell_type": "code",
   "execution_count": 7,
   "id": "d66609be",
   "metadata": {},
   "outputs": [],
   "source": [
    "# Example dictionary\n",
    "\n",
    "dict1 =  {'Sport': 'Cricket' , 'Teams': ['India', 'Australia', 'England', 'South Africa', 'Sri Lanka', 'New Zealand']}"
   ]
  },
  {
   "cell_type": "code",
   "execution_count": 8,
   "id": "6525465d",
   "metadata": {},
   "outputs": [
    {
     "name": "stdout",
     "output_type": "stream",
     "text": [
      "keys view: dict_keys(['Sport', 'Teams'])\n",
      "type of dict1.keys(): <class 'dict_keys'>\n"
     ]
    }
   ],
   "source": [
    "# keys() method\n",
    "\n",
    "print(f\"keys view: {dict1.keys()}\")\n",
    "print(f\"type of dict1.keys(): {type(dict1.keys())}\")"
   ]
  },
  {
   "cell_type": "code",
   "execution_count": 9,
   "id": "b46cac97",
   "metadata": {},
   "outputs": [
    {
     "name": "stdout",
     "output_type": "stream",
     "text": [
      "keys view: dict_values(['Cricket', ['India', 'Australia', 'England', 'South Africa', 'Sri Lanka', 'New Zealand']])\n",
      "type of dict1.keys(): <class 'dict_values'>\n"
     ]
    }
   ],
   "source": [
    "# values() method\n",
    "\n",
    "print(f\"keys view: {dict1.values()}\")\n",
    "print(f\"type of dict1.keys(): {type(dict1.values())}\")"
   ]
  },
  {
   "cell_type": "code",
   "execution_count": 10,
   "id": "5328384a",
   "metadata": {
    "scrolled": true
   },
   "outputs": [
    {
     "name": "stdout",
     "output_type": "stream",
     "text": [
      "keys view: dict_items([('Sport', 'Cricket'), ('Teams', ['India', 'Australia', 'England', 'South Africa', 'Sri Lanka', 'New Zealand'])])\n",
      "type of dict1.keys(): <class 'dict_items'>\n"
     ]
    }
   ],
   "source": [
    "# items() method\n",
    "\n",
    "print(f\"keys view: {dict1.items()}\")\n",
    "print(f\"type of dict1.keys(): {type(dict1.items())}\")"
   ]
  },
  {
   "cell_type": "markdown",
   "id": "a324bb13",
   "metadata": {},
   "source": [
    "### ------------------------------------------------------END----------------------------------------------------"
   ]
  }
 ],
 "metadata": {
  "kernelspec": {
   "display_name": "Python 3 (ipykernel)",
   "language": "python",
   "name": "python3"
  },
  "language_info": {
   "codemirror_mode": {
    "name": "ipython",
    "version": 3
   },
   "file_extension": ".py",
   "mimetype": "text/x-python",
   "name": "python",
   "nbconvert_exporter": "python",
   "pygments_lexer": "ipython3",
   "version": "3.10.4"
  }
 },
 "nbformat": 4,
 "nbformat_minor": 5
}
