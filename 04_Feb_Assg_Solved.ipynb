{
 "cells": [
  {
   "cell_type": "markdown",
   "id": "e7d5415e",
   "metadata": {},
   "source": [
    "# 04 Feb Assignment Solved"
   ]
  },
  {
   "cell_type": "markdown",
   "id": "1821e5d9",
   "metadata": {},
   "source": [
    "### -----------------------------------------------------------------------------------------------------------------"
   ]
  },
  {
   "cell_type": "markdown",
   "id": "97dbb3d7",
   "metadata": {},
   "source": [
    "#### Q1. Create a python program to sort the given list of tuples based on integer value using a lambda function.\n",
    "[('Sachin Tendulkar', 34357), ('Ricky Ponting', 27483), ('Jack Kallis', 25534), ('Virat Kohli', 24936)]"
   ]
  },
  {
   "cell_type": "code",
   "execution_count": 1,
   "id": "d8969079",
   "metadata": {},
   "outputs": [],
   "source": [
    "## Program for Q.1\n",
    "\n",
    "lst1=[('Sachin Tendulkar', 34357), ('Ricky Ponting', 27483), ('Jack Kallis', 25534), ('Virat Kohli', 24936)]"
   ]
  },
  {
   "cell_type": "code",
   "execution_count": 2,
   "id": "5f228d57",
   "metadata": {},
   "outputs": [
    {
     "data": {
      "text/plain": [
       "[('Sachin Tendulkar', 34357),\n",
       " ('Ricky Ponting', 27483),\n",
       " ('Jack Kallis', 25534),\n",
       " ('Virat Kohli', 24936)]"
      ]
     },
     "execution_count": 2,
     "metadata": {},
     "output_type": "execute_result"
    }
   ],
   "source": [
    "## Sorting above list of tuples based on integer value using sorted() function\n",
    "\n",
    "sorted(lst1,key= lambda i:lst1[1], reverse = True)"
   ]
  },
  {
   "cell_type": "markdown",
   "id": "f0e0a466",
   "metadata": {},
   "source": [
    "### -----------------------------------------------------------------------------------------------------------------\n"
   ]
  },
  {
   "cell_type": "markdown",
   "id": "4e57df30",
   "metadata": {},
   "source": [
    "#### Q2. Write a Python Program to find the squares of all the numbers in the given list of integers using lambda and map functions. \n",
    "[1, 2, 3, 4, 5, 6, 7, 8, 9, 10]"
   ]
  },
  {
   "cell_type": "code",
   "execution_count": 3,
   "id": "57580166",
   "metadata": {},
   "outputs": [],
   "source": [
    "## Program for Q.2\n",
    "\n",
    "# Given list\n",
    "lst2=[1, 2, 3, 4, 5, 6, 7, 8, 9, 10]\n",
    "\n",
    "# Mapping each element to its square\n",
    "sqr_lst=map(lambda x:x**2,lst2)"
   ]
  },
  {
   "cell_type": "code",
   "execution_count": 4,
   "id": "cfa4345a",
   "metadata": {},
   "outputs": [
    {
     "data": {
      "text/plain": [
       "[1, 4, 9, 16, 25, 36, 49, 64, 81, 100]"
      ]
     },
     "execution_count": 4,
     "metadata": {},
     "output_type": "execute_result"
    }
   ],
   "source": [
    "#Creating list of the mapped elements\n",
    "list(sqr_lst)"
   ]
  },
  {
   "cell_type": "markdown",
   "id": "9c1b57f7",
   "metadata": {},
   "source": [
    "### -----------------------------------------------------------------------------------------------------------------\n"
   ]
  },
  {
   "cell_type": "markdown",
   "id": "4a9c9974",
   "metadata": {},
   "source": [
    "#### Q3. Write a python program to convert the given list of integers into a tuple of strings. Use map and lambda functions\n",
    "\n",
    "\n",
    "Given list of integers: [1, 2, 3, 4, 5, 6, 7, 8, 9, 10]\n",
    "\n",
    "Expected output: ('1', '2', '3', '4', '5', '6', '7', '8', '9', '10')"
   ]
  },
  {
   "cell_type": "code",
   "execution_count": 5,
   "id": "00a70ac7",
   "metadata": {},
   "outputs": [
    {
     "name": "stdout",
     "output_type": "stream",
     "text": [
      "Given list of integers: [1, 2, 3, 4, 5, 6, 7, 8, 9, 10]\n",
      "\n",
      "Tuple of strings of given list of integers : ('1', '2', '3', '4', '5', '6', '7', '8', '9', '10')\n"
     ]
    }
   ],
   "source": [
    "## Program for Q.3\n",
    "\n",
    "lst3=[1, 2, 3, 4, 5, 6, 7, 8, 9, 10]\n",
    "print(f\"Given list of integers: {lst3}\")\n",
    "\n",
    "# Mapping elements of lst3 to string type\n",
    "new_lst1=map(lambda x:str(x),lst3)\n",
    "\n",
    "#Expected output\n",
    "print(f\"\\nTuple of strings of given list of integers : {tuple(new_lst1)}\")"
   ]
  },
  {
   "cell_type": "markdown",
   "id": "a9adf5a7",
   "metadata": {},
   "source": [
    "### -----------------------------------------------------------------------------------------------------------------"
   ]
  },
  {
   "cell_type": "markdown",
   "id": "8f50b5dd",
   "metadata": {},
   "source": [
    "#### Q4.  Write a python program using reduce function to compute the product of a list containing numbers from 1 to 25."
   ]
  },
  {
   "cell_type": "code",
   "execution_count": 6,
   "id": "7f154d4b",
   "metadata": {},
   "outputs": [
    {
     "name": "stdout",
     "output_type": "stream",
     "text": [
      "Given list: [1, 2, 3, 4, 5, 6, 7, 8, 9, 10, 11, 12, 13, 14, 15, 16, 17, 18, 19, 20, 21, 22, 23, 24, 25]\n",
      "\n",
      "Product of integers from 1 to 25 : 15511210043330985984000000\n"
     ]
    }
   ],
   "source": [
    "## Program for Q.4\n",
    "\n",
    "# Creating list of integers from 1 to 25\n",
    "lst4=[i for i in range(1,26)]\n",
    "print(f\"Given list: {lst4}\")\n",
    "\n",
    "# Importing reduce function from functools\n",
    "from functools import reduce\n",
    "\n",
    "# Applying reduce function on lst4\n",
    "res4=reduce(lambda x,y:x*y,lst4)\n",
    "\n",
    "#Output\n",
    "print(f\"\\nProduct of integers from 1 to 25 : {res4}\")"
   ]
  },
  {
   "cell_type": "markdown",
   "id": "7099b298",
   "metadata": {},
   "source": [
    "### -----------------------------------------------------------------------------------------------------------------"
   ]
  },
  {
   "cell_type": "markdown",
   "id": "79ca5966",
   "metadata": {},
   "source": [
    "#### Q5. Write a python program to filter the numbers in a given list that are divisible by 2 and 3 using the filter function.\n",
    "\n",
    "\n",
    "[2, 3, 6, 9, 27, 60, 90, 120, 55, 46]"
   ]
  },
  {
   "cell_type": "code",
   "execution_count": 7,
   "id": "1b3adb53",
   "metadata": {},
   "outputs": [
    {
     "name": "stdout",
     "output_type": "stream",
     "text": [
      "Given list: [2, 3, 6, 9, 27, 60, 90, 120, 55, 46]\n",
      "\n",
      "List of numbers divisible by 2 and 3 from given list: [2, 3, 6, 9, 27, 60, 90, 120, 46]\n"
     ]
    }
   ],
   "source": [
    "## Program for Q.5\n",
    "\n",
    "# Initialising the list\n",
    "lst5=[2, 3, 6, 9, 27, 60, 90, 120, 55, 46]\n",
    "print(f\"Given list: {lst5}\")\n",
    "\n",
    "# Using filter function to get desired output\n",
    "res5=filter(lambda x: x%2==0 or x%3==0,lst5)\n",
    "\n",
    "# Output\n",
    "print(f\"\\nList of numbers divisible by 2 and 3 from given list: {list(res5)}\")"
   ]
  },
  {
   "cell_type": "markdown",
   "id": "ccbf0a0b",
   "metadata": {},
   "source": [
    "### -----------------------------------------------------------------------------------------------------------------"
   ]
  },
  {
   "cell_type": "markdown",
   "id": "d2be2c89",
   "metadata": {},
   "source": [
    "#### Q6. Write a python program to find palindromes in the given list of strings using lambda and filter function.\n",
    "\n",
    "\n",
    "['python', 'php', 'aba', 'radar', 'level']"
   ]
  },
  {
   "cell_type": "code",
   "execution_count": 8,
   "id": "4d2878d5",
   "metadata": {
    "scrolled": true
   },
   "outputs": [
    {
     "name": "stdout",
     "output_type": "stream",
     "text": [
      "Given list of strings: ['python', 'php', 'aba', 'radar', 'level']\n",
      "\n",
      "Palindromes in the given list are: ['php', 'aba', 'radar', 'level']\n"
     ]
    }
   ],
   "source": [
    "## Program for Q.6\n",
    "\n",
    "# Initializing the list\n",
    "lst6=['python', 'php', 'aba', 'radar', 'level']\n",
    "print(f\"Given list of strings: {lst6}\")\n",
    "\n",
    "# Using filter function to get desired output\n",
    "res6=filter(lambda x:x==x[::-1],lst6)\n",
    "\n",
    "# Output\n",
    "print(f\"\\nPalindromes in the given list are: {list(res6)}\")"
   ]
  },
  {
   "cell_type": "markdown",
   "id": "cc3faa26",
   "metadata": {},
   "source": [
    "### -----------------------------------------------------END------------------------------------------------------------"
   ]
  }
 ],
 "metadata": {
  "kernelspec": {
   "display_name": "Python 3 (ipykernel)",
   "language": "python",
   "name": "python3"
  },
  "language_info": {
   "codemirror_mode": {
    "name": "ipython",
    "version": 3
   },
   "file_extension": ".py",
   "mimetype": "text/x-python",
   "name": "python",
   "nbconvert_exporter": "python",
   "pygments_lexer": "ipython3",
   "version": "3.10.4"
  }
 },
 "nbformat": 4,
 "nbformat_minor": 5
}
