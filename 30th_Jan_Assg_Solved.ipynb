{
 "cells": [
  {
   "cell_type": "markdown",
   "id": "70d55a78",
   "metadata": {},
   "source": [
    "## 30th Jan Assignment Solved"
   ]
  },
  {
   "cell_type": "markdown",
   "id": "26e4e0ce",
   "metadata": {},
   "source": [
    "### ------------------------------------------------------------------------------------------------------------------------------------------"
   ]
  },
  {
   "cell_type": "markdown",
   "id": "54330000",
   "metadata": {},
   "source": [
    "#### Q.1 Write a program to accept percentage from the user and display the grade according to the following criteria:\n",
    "\n",
    "|Marks | Grade|\n",
    "|-|-|\n",
    "|>90|A|\n",
    "|>80 and <=90|B|\n",
    "|>=60 and <=80|C|\n",
    "|below 60|D|"
   ]
  },
  {
   "cell_type": "code",
   "execution_count": 4,
   "id": "e6f63447",
   "metadata": {
    "scrolled": false
   },
   "outputs": [
    {
     "name": "stdout",
     "output_type": "stream",
     "text": [
      "This Window displays Grade based on the input percentage\n",
      "\n",
      "Press 1 to enter into the window\n",
      "Press X to exit\n",
      "\n",
      "Enter your choice: 1\n",
      "\n",
      "Enter your percentage: 92.8\n",
      "Your grade is: \u001b[1mA\u001b[0m\n",
      "------------------------------\n",
      "\n",
      "Press 1 to enter into the window\n",
      "Press X to exit\n",
      "\n",
      "Enter your choice: 1\n",
      "\n",
      "Enter your percentage: 65\n",
      "Your grade is: \u001b[1mC\u001b[0m\n",
      "------------------------------\n",
      "\n",
      "Press 1 to enter into the window\n",
      "Press X to exit\n",
      "\n",
      "Enter your choice: 1\n",
      "\n",
      "Enter your percentage: -4\n",
      "\u001b[1mEnter percentage between 0 to 100\u001b[0m\n",
      "------------------------------\n",
      "\n",
      "Press 1 to enter into the window\n",
      "Press X to exit\n",
      "\n",
      "Enter your choice: X\n"
     ]
    }
   ],
   "source": [
    "# Program for Q.1\n",
    "\n",
    "print(\"This Window displays Grade based on the input percentage\")\n",
    "\n",
    "while True:\n",
    "    print(\"\\nPress 1 to enter into the window\\nPress X to exit\")\n",
    "    user_input=input(\"\\nEnter your choice: \")\n",
    "    if user_input!='X':\n",
    "        percent=float(input(\"\\nEnter your percentage: \"))\n",
    "        if percent>90:\n",
    "            print(\"Your grade is: \\033[1mA\\033[0m\")\n",
    "            print(\"------------------------------\")\n",
    "        elif percent>80 and percent<=90:\n",
    "            print(\"Your grade is: \\033[1mB\\033[0m\")\n",
    "            print(\"------------------------------\")\n",
    "        elif percent>=60 and percent<=80:\n",
    "            print(\"Your grade is: \\033[1mC\\033[0m\")\n",
    "            print(\"------------------------------\")\n",
    "        elif percent>=0 and percent<60:\n",
    "            print(\"Your grade is: \\033[1mD\\033[0m\")\n",
    "            print(\"------------------------------\")\n",
    "        else:\n",
    "            print(\"\\033[1mEnter percentage between 0 to 100\\033[0m\")\n",
    "            print(\"------------------------------\")\n",
    "    else:\n",
    "        break\n"
   ]
  },
  {
   "cell_type": "markdown",
   "id": "b0241ac0",
   "metadata": {},
   "source": [
    "### ------------------------------------------------------------------------------------------------------------------------------------------"
   ]
  },
  {
   "cell_type": "markdown",
   "id": "73fea048",
   "metadata": {},
   "source": [
    "#### Q.2 Write a program to accept the cost price of a bike and display the road tax to be paid according to following criteria:\n",
    "\n",
    "|Tax|Cost Price(in Rs)|\n",
    "|-|-|\n",
    "|15%|>100000|\n",
    "|10%|>50000 and <=100000|\n",
    "|5%|<=50000|"
   ]
  },
  {
   "cell_type": "code",
   "execution_count": 6,
   "id": "3dd14b0b",
   "metadata": {},
   "outputs": [
    {
     "name": "stdout",
     "output_type": "stream",
     "text": [
      "Window for Calculating road tax on the given cost price of a bike\n",
      "\n",
      "Press 1 to enter into the window\n",
      "Press X to exit\n",
      "Enter your choice: 1\n",
      "\n",
      "Enter the cost price: 150000\n",
      "Road tax to be paid: 22500.0\n",
      "------------------------------\n",
      "\n",
      "Press 1 to enter into the window\n",
      "Press X to exit\n",
      "Enter your choice: 1\n",
      "\n",
      "Enter the cost price: 60000\n",
      "Road tax to be paid: 6000.0\n",
      "------------------------------\n",
      "\n",
      "Press 1 to enter into the window\n",
      "Press X to exit\n",
      "Enter your choice: X\n",
      "-------END---------\n"
     ]
    }
   ],
   "source": [
    "# Program for Q.2\n",
    "  \n",
    "print(\"Window for Calculating road tax on the given cost price of a bike\")\n",
    "\n",
    "while True:\n",
    "    print(\"\\nPress 1 to enter into the window\\nPress X to exit\")\n",
    "    user_input=input(\"Enter your choice: \")\n",
    "    if user_input!='X':\n",
    "        price=float(input(\"\\nEnter the cost price: \"))\n",
    "        if price >100000:\n",
    "            r_tax=0.15*price \n",
    "            print(f\"Road tax to be paid: {r_tax}\")\n",
    "            print(\"------------------------------\")\n",
    "        elif price>50000 and price<=100000:\n",
    "            r_tax=0.1*price\n",
    "            print(f\"Road tax to be paid: {r_tax}\")\n",
    "            print(\"------------------------------\")\n",
    "        elif price<=50000:\n",
    "            r_tax=0.05*price\n",
    "            print(f\"Road tax to be paid: {r_tax}\")\n",
    "            print(\"------------------------------\")\n",
    "    else:\n",
    "        print(\"-------END---------\")\n",
    "        break"
   ]
  },
  {
   "cell_type": "markdown",
   "id": "e364af5d",
   "metadata": {},
   "source": [
    "### ------------------------------------------------------------------------------------------------------------------------------------------"
   ]
  },
  {
   "cell_type": "markdown",
   "id": "5f2fe418",
   "metadata": {},
   "source": [
    "#### Q.3 Accept any city from the following table by the user and dsiplay monuments of that city.\n",
    "\n",
    "|City|Monument|\n",
    "|-|-|\n",
    "|Delhi|Red Fort|\n",
    "|Agra|Taj Mahal|\n",
    "|Jaipur|Jal Mahal|"
   ]
  },
  {
   "cell_type": "code",
   "execution_count": 7,
   "id": "4633ec5d",
   "metadata": {
    "scrolled": true
   },
   "outputs": [
    {
     "name": "stdout",
     "output_type": "stream",
     "text": [
      "Enter any one of the city name\n",
      "1. Delhi\n",
      "2. Agra\n",
      "3. Jaipur\n",
      "\n",
      "Enter the name of city: Agra\n",
      "\n",
      "=> Monument in Agra: Taj Mahal\n"
     ]
    }
   ],
   "source": [
    "# Program for Q.3\n",
    "\n",
    "dict1={'Delhi':'Red Fort','Agra':'Taj Mahal','Jaipur':'Jal Mahal'}\n",
    "print(\"\"\"Enter any one of the city name\n",
    "1. Delhi\n",
    "2. Agra\n",
    "3. Jaipur\"\"\")\n",
    "var=input(\"\\nEnter the name of city: \")\n",
    "if var in dict1.keys():\n",
    "    print(f\"\\n=> Monument in {var}: {dict1.get(var)}\")\n",
    "else:\n",
    "    print(\"\\n=> Enter input as given above\")\n"
   ]
  },
  {
   "cell_type": "markdown",
   "id": "a38ef66b",
   "metadata": {},
   "source": [
    "### ------------------------------------------------------------------------------------------------------------------------------------------"
   ]
  },
  {
   "cell_type": "markdown",
   "id": "7a957008",
   "metadata": {},
   "source": [
    "#### Q.4 Check how many times a given number can be divided by 3 before it is less than or equal to 10"
   ]
  },
  {
   "cell_type": "code",
   "execution_count": 8,
   "id": "d7751f96",
   "metadata": {},
   "outputs": [
    {
     "name": "stdout",
     "output_type": "stream",
     "text": [
      "Number of times 1 is divisible by 3: 0\n",
      "\n",
      "Number of times 2 is divisible by 3: 0\n",
      "\n",
      "Number of times 3 is divisible by 3: 1\n",
      "\n",
      "Number of times 4 is divisible by 3: 0\n",
      "\n",
      "Number of times 5 is divisible by 3: 0\n",
      "\n",
      "Number of times 6 is divisible by 3: 1\n",
      "\n",
      "Number of times 7 is divisible by 3: 0\n",
      "\n",
      "Number of times 8 is divisible by 3: 0\n",
      "\n",
      "Number of times 9 is divisible by 3: 2\n",
      "\n",
      "Number of times 10 is divisible by 3: 0\n",
      "\n"
     ]
    }
   ],
   "source": [
    "# Program for Q.4\n",
    "\n",
    "for i in range(1,11):\n",
    "    count=0\n",
    "    j=i\n",
    "    while(i%3==0):\n",
    "        count=count+1\n",
    "        i=i/3\n",
    "    print(f\"Number of times {j} is divisible by 3: {count}\\n\")\n",
    "    "
   ]
  },
  {
   "cell_type": "markdown",
   "id": "f9519408",
   "metadata": {},
   "source": [
    "### ------------------------------------------------------------------------------------------------------------------------------------------"
   ]
  },
  {
   "cell_type": "markdown",
   "id": "da652525",
   "metadata": {},
   "source": [
    "#### Q.5 Why and when to use the while loop in Python. Give a detailed description with example.\n",
    "\n",
    "- While loop in Python is used to execute a block of statement repeatedly until the given condition becomes False. The condition is evaluated in a boolean context.\n",
    "- Once the condition becomes False the next line after while loop is encounterd."
   ]
  },
  {
   "cell_type": "code",
   "execution_count": 14,
   "id": "70c31a82",
   "metadata": {},
   "outputs": [
    {
     "name": "stdout",
     "output_type": "stream",
     "text": [
      "Execution count: 1\n",
      "Execution count: 2\n",
      "Execution count: 3\n",
      "Execution count: 4\n",
      "Execution count: 5\n",
      "while loop execution over, now out of the loop\n",
      "Number of times while loop got executed: 5\n"
     ]
    }
   ],
   "source": [
    "# Example program for Q.5\n",
    "\n",
    "# This program check how many times while is executed until \n",
    "# the expression is evaluated to False.\n",
    "\n",
    "count=0\n",
    "i=0\n",
    "while(i<5):\n",
    "    count=count+1\n",
    "    i=i+1\n",
    "    print(f\"Execution count: {count}\")\n",
    "print(\"while loop execution over, now out of the loop\")\n",
    "print(f\"Number of times while loop got executed: {count}\")"
   ]
  },
  {
   "cell_type": "markdown",
   "id": "be603509",
   "metadata": {},
   "source": [
    "### ------------------------------------------------------------------------------------------------------------------------------------------"
   ]
  },
  {
   "cell_type": "markdown",
   "id": "fa324d03",
   "metadata": {},
   "source": [
    "#### Q.6 Use nested while loop to print 3 different pattern."
   ]
  },
  {
   "cell_type": "code",
   "execution_count": 1,
   "id": "1fdbd116",
   "metadata": {},
   "outputs": [
    {
     "name": "stdout",
     "output_type": "stream",
     "text": [
      "This program displays square pattern of stars based on number of rows given\n",
      "\n",
      "Enter number of rows: 6\n",
      "\n",
      "* * * * * * \n",
      "* * * * * * \n",
      "* * * * * * \n",
      "* * * * * * \n",
      "* * * * * * \n",
      "* * * * * * \n"
     ]
    }
   ],
   "source": [
    "# Square pattern of stars\n",
    "\n",
    "print(\"This program displays square pattern of stars based on number of rows given\\n\")\n",
    "n=int(input(\"Enter number of rows: \"))\n",
    "print()\n",
    "r=0\n",
    "i=0\n",
    "while(i<n):\n",
    "    while(r<n):\n",
    "        print(\"* \",end='')\n",
    "        r=r+1\n",
    "    print()\n",
    "    i=i+1\n",
    "    r=0"
   ]
  },
  {
   "cell_type": "code",
   "execution_count": 61,
   "id": "e1aa809c",
   "metadata": {},
   "outputs": [
    {
     "name": "stdout",
     "output_type": "stream",
     "text": [
      "This program display right angle triangle pattern of stars for the given number of rows\n",
      "Enter number of rows: 6\n",
      "\n",
      "* \n",
      "* * \n",
      "* * * \n",
      "* * * * \n",
      "* * * * * \n",
      "* * * * * * \n"
     ]
    }
   ],
   "source": [
    "# Right angled triangle pattern of stars\n",
    "\n",
    "print(\"This program display right angle triangle pattern of stars for the given number of rows\")\n",
    "n=int(input(\"Enter number of rows: \"))\n",
    "print()\n",
    "r=0\n",
    "i=0\n",
    "while(i<n):\n",
    "    while(r<=i):\n",
    "        print(\"* \",end='')\n",
    "        r=r+1\n",
    "    print()\n",
    "    i+=1\n",
    "    r=0"
   ]
  },
  {
   "cell_type": "code",
   "execution_count": 18,
   "id": "0ee7d597",
   "metadata": {},
   "outputs": [
    {
     "name": "stdout",
     "output_type": "stream",
     "text": [
      "This program display pyramid pattern of stars for the given number of rows\n",
      "Enter number of rows: 6\n",
      "\n",
      "     * \n",
      "    * * \n",
      "   * * * \n",
      "  * * * * \n",
      " * * * * * \n",
      "* * * * * * \n"
     ]
    }
   ],
   "source": [
    "# Pyramid pattern\n",
    "\n",
    "print(\"This program display pyramid pattern of stars for the given number of rows\")\n",
    "n=int(input(\"Enter number of rows: \"))\n",
    "print()\n",
    "r=0\n",
    "i=0 #column index\n",
    "while(i<n):\n",
    "    print(\" \"*(n-(i+1))+\"* \"*(i+1))\n",
    "    i=i+1\n",
    "        \n"
   ]
  },
  {
   "cell_type": "markdown",
   "id": "ca2bcf75",
   "metadata": {},
   "source": [
    "### ------------------------------------------------------------------------------------------------------------------------------------------"
   ]
  },
  {
   "cell_type": "markdown",
   "id": "668126da",
   "metadata": {},
   "source": [
    "#### Q.7 Reverse a while loop to display numbers from 10 to 1.\n"
   ]
  },
  {
   "cell_type": "code",
   "execution_count": 18,
   "id": "b740e577",
   "metadata": {
    "scrolled": true
   },
   "outputs": [
    {
     "name": "stdout",
     "output_type": "stream",
     "text": [
      "Numbers from 1 to 10 in reverse order\n",
      "10\n",
      "9\n",
      "8\n",
      "7\n",
      "6\n",
      "5\n",
      "4\n",
      "3\n",
      "2\n",
      "1\n"
     ]
    }
   ],
   "source": [
    "# Program for Q.7\n",
    "\n",
    "i=0\n",
    "print(\"Numbers from 1 to 10 in reverse order\")\n",
    "while(i<10):\n",
    "    print(f\"{10-i}\")\n",
    "    i=i+1"
   ]
  },
  {
   "cell_type": "markdown",
   "id": "067f600c",
   "metadata": {},
   "source": [
    "### ------------------------------------------------------------------------------------------------------------------------------------------"
   ]
  },
  {
   "cell_type": "markdown",
   "id": "ac17c1f4",
   "metadata": {},
   "source": [
    "#### Q.8 Reverse a while loop to display numbers from 10 to 1.\n",
    "\n",
    "- Same as Q.7"
   ]
  },
  {
   "cell_type": "markdown",
   "id": "de231646",
   "metadata": {},
   "source": [
    "### --------------------------------------------------------------END----------------------------------------------------------------------------"
   ]
  }
 ],
 "metadata": {
  "kernelspec": {
   "display_name": "Python 3 (ipykernel)",
   "language": "python",
   "name": "python3"
  },
  "language_info": {
   "codemirror_mode": {
    "name": "ipython",
    "version": 3
   },
   "file_extension": ".py",
   "mimetype": "text/x-python",
   "name": "python",
   "nbconvert_exporter": "python",
   "pygments_lexer": "ipython3",
   "version": "3.10.4"
  }
 },
 "nbformat": 4,
 "nbformat_minor": 5
}
