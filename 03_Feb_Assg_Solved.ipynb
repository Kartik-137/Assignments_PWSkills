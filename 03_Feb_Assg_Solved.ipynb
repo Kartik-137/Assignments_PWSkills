{
 "cells": [
  {
   "cell_type": "markdown",
   "id": "061d7684",
   "metadata": {},
   "source": [
    "## 03 Feb Assignment solved"
   ]
  },
  {
   "cell_type": "markdown",
   "id": "d809ee43",
   "metadata": {},
   "source": [
    "### ----------------------------------------------------------------------------------------------------------------------"
   ]
  },
  {
   "cell_type": "markdown",
   "id": "3494d4f0",
   "metadata": {},
   "source": [
    "#### Q1. Which keyword is used to create a function? Create a function to return a list of odd numbers in the range of 1 to 25.\n",
    "#### Sol_1:\n",
    "- Funtions in programming languages are just like mathematical functions which takes some input and provides an output.\n",
    "- In python the **def** keyword is used for creating a function."
   ]
  },
  {
   "cell_type": "code",
   "execution_count": 1,
   "id": "0f4049b7",
   "metadata": {},
   "outputs": [],
   "source": [
    "# Example of null function:\n",
    "def func_name():\n",
    "    \"\"\"docstring to describe what the function does\"\"\"\n",
    "    pass"
   ]
  },
  {
   "cell_type": "code",
   "execution_count": 2,
   "id": "117481d0",
   "metadata": {},
   "outputs": [],
   "source": [
    "# Function to return odd numbers from 1 to 25\n",
    "def odd_num():\n",
    "    odd_lst=[]\n",
    "    for i in range(1,26):\n",
    "        if i%2!=0:\n",
    "            odd_lst.append(i)\n",
    "    return odd_lst\n",
    "            "
   ]
  },
  {
   "cell_type": "code",
   "execution_count": 3,
   "id": "a0735963",
   "metadata": {},
   "outputs": [
    {
     "name": "stdout",
     "output_type": "stream",
     "text": [
      "List of the odd numbers from 1 to 25:\n"
     ]
    },
    {
     "data": {
      "text/plain": [
       "[1, 3, 5, 7, 9, 11, 13, 15, 17, 19, 21, 23, 25]"
      ]
     },
     "execution_count": 3,
     "metadata": {},
     "output_type": "execute_result"
    }
   ],
   "source": [
    "# Callin the odd_num() function\n",
    "print(\"List of the odd numbers from 1 to 25:\")\n",
    "odd_num()"
   ]
  },
  {
   "cell_type": "markdown",
   "id": "e36c7369",
   "metadata": {},
   "source": [
    "### ----------------------------------------------------------------------------------------------------------------------"
   ]
  },
  {
   "cell_type": "markdown",
   "id": "26bcd610",
   "metadata": {},
   "source": [
    "#### Q2. Why * args  and ** kwargs is used in some functions? Create a function each for * args and ** kwargs to demonstrate their use.\n",
    "\n",
    "- When the number of arguments to be given to a function is not known then the arguments are passed into the function using special symbol asterisk.\n",
    "- For variable number of positional arguments:\n",
    "    - *args is used. \n",
    "    - It recieves arguments as a tuple.\n",
    "- For variable number of keyword arguments:\n",
    "    - **kwargs is used. \n",
    "    - It recieves arguments as a dictionary."
   ]
  },
  {
   "cell_type": "code",
   "execution_count": 4,
   "id": "9caf127f",
   "metadata": {},
   "outputs": [
    {
     "name": "stdout",
     "output_type": "stream",
     "text": [
      "Elements in 'args': ([1, 2, 3], 'a', 'b', 9.9)\n",
      "Items in 'kwargs': {'f': 25, 'c': '#'}\n"
     ]
    }
   ],
   "source": [
    "# Example cod for Q.2\n",
    "\n",
    "def demo_fun(*args, **kwargs):\n",
    "    print(f\"Elements in 'args': {args}\\nItems in 'kwargs': {kwargs}\")\n",
    "\n",
    "demo_fun([1,2,3],'a','b',9.9,f=25,c='#')"
   ]
  },
  {
   "cell_type": "markdown",
   "id": "7799bef6",
   "metadata": {},
   "source": [
    "### ----------------------------------------------------------------------------------------------------------------------"
   ]
  },
  {
   "cell_type": "markdown",
   "id": "3ca4f3ae",
   "metadata": {},
   "source": [
    "#### Q3.  What is an iterator in python? Name the method used to initialise the iterator object and the method  used for iteration. Use these methods to print the first five elements of the given list [2, 4, 6, 8, 10, 12, 14, 16, 18, 20].\n",
    "- An iterator is an object in python which is used for traversing through each element in a sequence or an iterable (i.e list, tuple, strings, dictionary, sets).In iterators the state of the current iteration gets saved.\n",
    "- The iterator object in python is initialized using the **iter()** method and the **next()** is used for returning the subsequent value in the iterable."
   ]
  },
  {
   "cell_type": "code",
   "execution_count": 5,
   "id": "91b3dcb2",
   "metadata": {},
   "outputs": [
    {
     "name": "stdout",
     "output_type": "stream",
     "text": [
      "First five elements of the list: \n",
      "\n",
      "2\n",
      "4\n",
      "6\n",
      "8\n",
      "10\n"
     ]
    }
   ],
   "source": [
    "# To print first five elements in [2, 4, 6, 8, 10, 12, 14, 16, 18, 20]\n",
    "\n",
    "lst=[2, 4, 6, 8, 10, 12, 14, 16, 18, 20]\n",
    "iter_obj=iter(lst)\n",
    "\n",
    "print(\"First five elements of the list: \")\n",
    "print(f\"\"\"\n",
    "{next(iter_obj)}\n",
    "{next(iter_obj)}\n",
    "{next(iter_obj)}\n",
    "{next(iter_obj)}\n",
    "{next(iter_obj)}\"\"\")"
   ]
  },
  {
   "cell_type": "markdown",
   "id": "cf9ba9bc",
   "metadata": {},
   "source": [
    "### ----------------------------------------------------------------------------------------------------------------------\n"
   ]
  },
  {
   "cell_type": "markdown",
   "id": "8b063d7d",
   "metadata": {},
   "source": [
    "#### Q4.  What is a generator function in python? Why yield keyword is used? Give an example of a generator function.\n",
    "- A generator function in python is normal function with a **yield** keyword in it.\n",
    "- A normal function processes the whole data in one time whereas a generator outputs pieces of the data one by one. Such function does NOT hold the whole data at one place in memory. It only remembers the last output generated and based on that it generates the next output.\n",
    "- It uses the **yield** keyword to return a value and defers execution until further notice."
   ]
  },
  {
   "cell_type": "code",
   "execution_count": 6,
   "id": "5fa531bb",
   "metadata": {},
   "outputs": [
    {
     "name": "stdout",
     "output_type": "stream",
     "text": [
      "<generator object gen_squares at 0x0000019F36427220>\n"
     ]
    }
   ],
   "source": [
    "# Example of square generator function\n",
    "\n",
    "def gen_squares():\n",
    "    for i in range(1,11):\n",
    "        yield i**2\n",
    "        \n",
    "# Create the generator object\n",
    "obj=gen_squares()\n",
    "print(obj)"
   ]
  },
  {
   "cell_type": "code",
   "execution_count": 7,
   "id": "a05af6bf",
   "metadata": {},
   "outputs": [
    {
     "name": "stdout",
     "output_type": "stream",
     "text": [
      "The squares from 1 to 10 using the generator function: \n",
      "1 ,4 ,9 ,16 ,25 ,36 ,49 ,64 ,81 ,100 ,"
     ]
    }
   ],
   "source": [
    "# Iterating over the generator object using for loop\n",
    "\n",
    "print(\"The squares from 1 to 10 using the generator function: \")\n",
    "for x in obj:\n",
    "    print(x,\",\",end='')"
   ]
  },
  {
   "cell_type": "markdown",
   "id": "45b04ba2",
   "metadata": {},
   "source": [
    "### ----------------------------------------------------------------------------------------------------------------------"
   ]
  },
  {
   "cell_type": "markdown",
   "id": "7b0e49b0",
   "metadata": {},
   "source": [
    "#### Q5. Create a generator function for prime numbers less than 1000. Use the next() method to print the first 20 prime numbers."
   ]
  },
  {
   "cell_type": "code",
   "execution_count": 8,
   "id": "f0062f65",
   "metadata": {
    "scrolled": true
   },
   "outputs": [],
   "source": [
    "# Generator function to get prime numbers less than 1000.\n",
    "\n",
    "def prime_num():\n",
    "    for n in range(1,1001):\n",
    "        count=0\n",
    "        if n>1:\n",
    "            for i in range(2,n):\n",
    "                if n%i==0:\n",
    "                    count=count+1\n",
    "            if count==0:\n",
    "                yield n\n",
    "            else:\n",
    "                continue\n",
    "        else:\n",
    "            continue\n",
    "obj=prime_num()"
   ]
  },
  {
   "cell_type": "code",
   "execution_count": 9,
   "id": "2bb01f15",
   "metadata": {
    "scrolled": true
   },
   "outputs": [
    {
     "name": "stdout",
     "output_type": "stream",
     "text": [
      "2\n",
      "3\n",
      "5\n",
      "7\n",
      "11\n",
      "13\n",
      "17\n",
      "19\n",
      "23\n",
      "29\n",
      "31\n",
      "37\n",
      "41\n",
      "43\n",
      "47\n",
      "53\n",
      "59\n",
      "61\n",
      "67\n",
      "71\n"
     ]
    }
   ],
   "source": [
    "flag=0\n",
    "while(flag<20):\n",
    "    print(next(obj))\n",
    "    flag=flag+1\n",
    "    "
   ]
  },
  {
   "cell_type": "markdown",
   "id": "ae34fb29",
   "metadata": {},
   "source": [
    "### -------------------------------------------------------END--------------------------------------------------"
   ]
  }
 ],
 "metadata": {
  "kernelspec": {
   "display_name": "Python 3 (ipykernel)",
   "language": "python",
   "name": "python3"
  },
  "language_info": {
   "codemirror_mode": {
    "name": "ipython",
    "version": 3
   },
   "file_extension": ".py",
   "mimetype": "text/x-python",
   "name": "python",
   "nbconvert_exporter": "python",
   "pygments_lexer": "ipython3",
   "version": "3.10.4"
  }
 },
 "nbformat": 4,
 "nbformat_minor": 5
}
