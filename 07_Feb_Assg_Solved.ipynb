{
 "cells": [
  {
   "cell_type": "markdown",
   "id": "8e308d4e",
   "metadata": {},
   "source": [
    "# 07 Feb Assignment Solved"
   ]
  },
  {
   "cell_type": "markdown",
   "id": "eef5aea3",
   "metadata": {},
   "source": [
    "### -----------------------------------------------------------------------------------------------------------------"
   ]
  },
  {
   "cell_type": "markdown",
   "id": "40867afb",
   "metadata": {},
   "source": [
    "#### Q1. You are writing code for a company. The requirement of the company is that you create a python function that will check whether the password entered by the user is correct or not. The function should take the password as input and return the string “Valid Password” if the entered password follows the below-given password guidelines else it should return “Invalid Password”.\n",
    "\n",
    "Note: \n",
    "   - 1. The Password should contain at least two uppercase letters and at least two lowercase letters.\n",
    "   - 2. The Password should contain at least a number and three special characters.\n",
    "   - 3. The length of the password should be 10 characters long.\n"
   ]
  },
  {
   "cell_type": "code",
   "execution_count": 1,
   "id": "1b725f00",
   "metadata": {},
   "outputs": [
    {
     "name": "stdout",
     "output_type": "stream",
     "text": [
      "Enter your password: #J#J#J5590onthego\n",
      "\u001b[1mValid Password\u001b[0m\n"
     ]
    }
   ],
   "source": [
    "# Importing string lib to create list of special characters\n",
    "import string\n",
    "\n",
    "# Asking for user input\n",
    "user_input = input(\"Enter your password: \")\n",
    "\n",
    "# Function for validating password\n",
    "def validate(password):\n",
    "    \n",
    "    \n",
    "    flag_upper = 0\n",
    "    flag_lower = 0\n",
    "    flag_digit = 0\n",
    "    flag_punc = 0\n",
    "    size = len(password)\n",
    "\n",
    "    # List of punctuation marks\n",
    "    lst_punc = list(string.punctuation)\n",
    "    \n",
    "    # looping to count the number of various characters in password\n",
    "\n",
    "    for char in password:\n",
    "        if char.isupper():\n",
    "            flag_upper = flag_upper + 1\n",
    "    \n",
    "        elif char.islower():\n",
    "            flag_lower = flag_lower + 1\n",
    "        \n",
    "        elif char.isdigit():\n",
    "            flag_digit = flag_digit + 1\n",
    "        \n",
    "        elif char in lst_punc:\n",
    "            flag_punc = flag_punc + 1\n",
    "\n",
    "    # Condition to check if password entered by user is correct or not\n",
    "    \n",
    "    if size<10:\n",
    "        print(f\"\\033[1mInvalid Password\\033[0m\")\n",
    "        print(f\"\"\"NOTE:\n",
    "        1. The Password should contain at least two uppercase letters and at least two lowercase letters.\n",
    "        2. The Password should contain at least a number and three special characters.\n",
    "        3. The length of the password should be 10 characters long.\"\"\")\n",
    "    elif flag_upper < 2 or flag_lower < 2:\n",
    "        print(f\"\\033[1mInvalid Password\\033[0m\")\n",
    "        print(f\"\"\"NOTE:\n",
    "        1. The Password should contain at least two uppercase letters and at least two lowercase letters.\n",
    "        2. The Password should contain at least a number and three special characters.\n",
    "        3. The length of the password should be 10 characters long.\"\"\")\n",
    "    elif flag_punc < 3 or flag_digit < 1:\n",
    "        print(f\"\\033[1mInvalid Password\\033[0m\")\n",
    "        print(f\"\"\"NOTE:\n",
    "        1. The Password should contain at least two uppercase letters and at least two lowercase letters.\n",
    "        2. The Password should contain at least a number and three special characters.\n",
    "        3. The length of the password should be 10 characters long.\"\"\")\n",
    "    else:\n",
    "        print(f\"\\033[1mValid Password\\033[0m\")\n",
    "        \n",
    "validate(user_input)"
   ]
  },
  {
   "cell_type": "markdown",
   "id": "94a33831",
   "metadata": {},
   "source": [
    "#### -----------------------------------------------------------------------------------------------------------------"
   ]
  },
  {
   "cell_type": "markdown",
   "id": "7cca022c",
   "metadata": {},
   "source": [
    "#### Q2. Solve the below-given questions using at least one of the following: \n",
    "\n",
    "1. Lambda function\n",
    "2. Filter function\n",
    "3. Map function\n",
    "4. List Comprehension\n"
   ]
  },
  {
   "cell_type": "markdown",
   "id": "4f4a0e49",
   "metadata": {},
   "source": [
    "#### Q2a) Check if the string starts with a particular letter."
   ]
  },
  {
   "cell_type": "code",
   "execution_count": 2,
   "id": "79f89ffb",
   "metadata": {},
   "outputs": [
    {
     "name": "stdout",
     "output_type": "stream",
     "text": [
      "This program return \u001b[1mTrue\u001b[0m if the input string starts with \u001b[1m'I'\u001b[0m \n",
      "Enter a string: Ikuzu\n",
      "\n",
      "OUTPUT\n",
      "\u001b[1mTrue\u001b[0m, as the word starts with the given particular letter 'I' \n"
     ]
    }
   ],
   "source": [
    "# Code for Q2a\n",
    "\n",
    "print(\"This program return \\033[1mTrue\\033[0m if the input string starts with \\033[1m'I'\\033[0m \")\n",
    "user_input = input(\"Enter a string: \")\n",
    "\n",
    "func = lambda x : x.startswith(\"I\") \n",
    "\n",
    "print(\"\\nOUTPUT\")\n",
    "if func(user_input) == True:\n",
    "    print(\"\\033[1mTrue\\033[0m, as the word starts with the given particular letter 'I' \")\n",
    "else:\n",
    "    print(f\"\\033[1mFalse\\033[0m, as the word starts with: {user_input[0]}\")"
   ]
  },
  {
   "cell_type": "markdown",
   "id": "75d110ae",
   "metadata": {},
   "source": [
    "#### Q2b) Check if the string is numeric."
   ]
  },
  {
   "cell_type": "code",
   "execution_count": 3,
   "id": "71e283a9",
   "metadata": {},
   "outputs": [
    {
     "name": "stdout",
     "output_type": "stream",
     "text": [
      "This program returns \u001b[1mTrue\u001b[0m if the input string is numeric\n",
      "Enter a string: 55num\n",
      "\n",
      "OUTPUT\n",
      "\u001b[1mFalse\u001b[0m, input string is \u001b[1mnot numeric\u001b[0m\n"
     ]
    }
   ],
   "source": [
    "print(\"This program returns \\033[1mTrue\\033[0m if the input string is numeric\")\n",
    "user_input = input(\"Enter a string: \")\n",
    "\n",
    "func = lambda x : x.isnumeric() \n",
    "\n",
    "print(\"\\nOUTPUT\")\n",
    "if func(user_input) == True:\n",
    "    print(\"\\033[1mTrue\\033[0m, input string \\033[1mis numeric\\033[0m\")\n",
    "else:\n",
    "    print(f\"\\033[1mFalse\\033[0m, input string is \\033[1mnot numeric\\033[0m\")"
   ]
  },
  {
   "cell_type": "markdown",
   "id": "f5e8a928",
   "metadata": {},
   "source": [
    "#### Q2c) Sort a list of tuples having fruit names and their quantity. \n",
    "- [(\"mango\",99),(\"orange\",80), (\"grapes\", 1000)]\n",
    "\n"
   ]
  },
  {
   "cell_type": "code",
   "execution_count": 4,
   "id": "41b34fee",
   "metadata": {},
   "outputs": [],
   "source": [
    "l = [(\"mango\",99),(\"orange\",80), (\"grapes\", 1000)]"
   ]
  },
  {
   "cell_type": "code",
   "execution_count": 5,
   "id": "1c5ffdf6",
   "metadata": {},
   "outputs": [
    {
     "name": "stdout",
     "output_type": "stream",
     "text": [
      "The list in ascending order is: [('orange', 80), ('mango', 99), ('grapes', 1000)]\n"
     ]
    }
   ],
   "source": [
    "sort_func = lambda x:x.sort(reverse = True)  # .sort() is an inplace operation\n",
    "sort_func(l)\n",
    "print(f\"The list in ascending order is: {l}\")"
   ]
  },
  {
   "cell_type": "markdown",
   "id": "eee76753",
   "metadata": {},
   "source": [
    "#### Q2d) Find the squares of numbers from 1 to 10."
   ]
  },
  {
   "cell_type": "code",
   "execution_count": 6,
   "id": "d5047571",
   "metadata": {},
   "outputs": [
    {
     "name": "stdout",
     "output_type": "stream",
     "text": [
      "The squares of numbers in the given list: \n",
      "[1, 4, 9, 16, 25, 36, 49, 64, 81, 100]\n"
     ]
    }
   ],
   "source": [
    "num = [i for i in range(1,11)]\n",
    "\n",
    "print(\"The squares of numbers in the given list: \")\n",
    "sqr_lst = list(map(lambda x: x**2, num))\n",
    "\n",
    "print(sqr_lst)"
   ]
  },
  {
   "cell_type": "markdown",
   "id": "0b8cc5ce",
   "metadata": {},
   "source": [
    "#### Q2e) Find the cube root of numbers from 1 to 10."
   ]
  },
  {
   "cell_type": "code",
   "execution_count": 7,
   "id": "d3e4e5f2",
   "metadata": {},
   "outputs": [
    {
     "name": "stdout",
     "output_type": "stream",
     "text": [
      "Cube roots of the elements of the given list: \n",
      "[1.0, 1.26, 1.442, 1.587, 1.71, 1.817, 1.913, 2.0, 2.08, 2.154]\n"
     ]
    }
   ],
   "source": [
    "num = [i for i in range(1,11)]\n",
    "\n",
    "print(\"Cube roots of the elements of the given list: \")\n",
    "cube_lst = list(map(lambda x:round(x**(1/3),3), num))\n",
    "\n",
    "print(cube_lst)"
   ]
  },
  {
   "cell_type": "markdown",
   "id": "82d0c6f5",
   "metadata": {},
   "source": [
    "#### Q2f) Check if a given number is even."
   ]
  },
  {
   "cell_type": "code",
   "execution_count": 8,
   "id": "34a4fd3b",
   "metadata": {},
   "outputs": [
    {
     "name": "stdout",
     "output_type": "stream",
     "text": [
      "This program checks if the given number is even or not\n",
      "Enter a positive integer: 123\n",
      "123 is an \u001b[1modd\u001b[0m number\n"
     ]
    }
   ],
   "source": [
    "print(\"This program checks if the given number is even or not\")\n",
    "numb = int(input(\"Enter a positive integer: \"))\n",
    "check_even = lambda x: x%2 == 0\n",
    "\n",
    "if check_even(numb) == True:\n",
    "    print(f\"{numb} is an \\033[1meven\\033[0m number\")\n",
    "else:\n",
    "    print(f\"{numb} is an \\033[1modd\\033[0m number\")"
   ]
  },
  {
   "cell_type": "markdown",
   "id": "1ffca530",
   "metadata": {},
   "source": [
    "#### Q2g) Filter odd numbers from the given list.\n",
    " [1,2,3,4,5,6,7,8,9,10]"
   ]
  },
  {
   "cell_type": "code",
   "execution_count": 9,
   "id": "3c7cd1e0",
   "metadata": {},
   "outputs": [
    {
     "name": "stdout",
     "output_type": "stream",
     "text": [
      "Result after filtering the odd numbers from the given list : \n",
      "[1, 3, 5, 7, 9]\n"
     ]
    }
   ],
   "source": [
    "lst = [1,2,3,4,5,6,7,8,9,10]\n",
    "\n",
    "# Filter function to extract only the odd numbers from lst\n",
    "odd_lst = list(filter(lambda x : x%2!=0, lst))\n",
    "print(f\"Result after filtering the odd numbers from the given list : \\n{odd_lst}\")"
   ]
  },
  {
   "cell_type": "markdown",
   "id": "f3ab47cf",
   "metadata": {},
   "source": [
    "#### Q2h) Sort a list of integers into positive and negative integers lists.\n",
    "[1,2,3,4,5,6,-1,-2,-3,-4,-5,0]"
   ]
  },
  {
   "cell_type": "code",
   "execution_count": 10,
   "id": "5bbe26b5",
   "metadata": {},
   "outputs": [],
   "source": [
    "lst = [1,2,3,4,5,6,-1,-2,-3,-4,-5,0]    # given list\n",
    "new_lst = sorted(filter(lambda x : x < 0, lst)) + sorted(filter(lambda x : x > 0 , lst))"
   ]
  },
  {
   "cell_type": "code",
   "execution_count": 11,
   "id": "dd054651",
   "metadata": {},
   "outputs": [
    {
     "name": "stdout",
     "output_type": "stream",
     "text": [
      "Sorted list:\n",
      "[-5, -4, -3, -2, -1, 1, 2, 3, 4, 5, 6]\n"
     ]
    }
   ],
   "source": [
    "print(f\"Sorted list:\\n{new_lst}\")"
   ]
  }
 ],
 "metadata": {
  "kernelspec": {
   "display_name": "Python 3 (ipykernel)",
   "language": "python",
   "name": "python3"
  },
  "language_info": {
   "codemirror_mode": {
    "name": "ipython",
    "version": 3
   },
   "file_extension": ".py",
   "mimetype": "text/x-python",
   "name": "python",
   "nbconvert_exporter": "python",
   "pygments_lexer": "ipython3",
   "version": "3.10.4"
  }
 },
 "nbformat": 4,
 "nbformat_minor": 5
}
