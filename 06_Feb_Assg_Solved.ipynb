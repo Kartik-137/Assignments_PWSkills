{
 "cells": [
  {
   "cell_type": "markdown",
   "id": "5e6a2e6a",
   "metadata": {},
   "source": [
    "# 06 Feb Assignment Solved\n",
    "\n"
   ]
  },
  {
   "cell_type": "markdown",
   "id": "251e142d",
   "metadata": {},
   "source": [
    "### ----------------------------------------------------------------------------------------------------------------------------------"
   ]
  },
  {
   "cell_type": "markdown",
   "id": "93e7a4c7",
   "metadata": {},
   "source": [
    "#### Q1. Create a function which will take a list as an argument and return the product of all the numbers after creating a flat list. Use the below-given list as an argument for your function.\n",
    "\n",
    "\n",
    "list1 = [1,2,3,4, [44,55,66, True], False, (34,56,78,89,34), {1,2,3,3,2,1}, {1:34, \"key2\": [55, 67, 78, 89], 4: (45, \n",
    "22, 61, 34)}, [56, 'data science'], 'Machine Learning']\n",
    "\n",
    "\n",
    "Note: you must extract numeric keys and values of the dictionary also.\n"
   ]
  },
  {
   "cell_type": "code",
   "execution_count": 1,
   "id": "6773f0d6",
   "metadata": {},
   "outputs": [],
   "source": [
    "# Importing reduce function\n",
    "from functools import reduce\n",
    "\n",
    "# Creating the desired function\n",
    "def obj_prod(l):\n",
    "    \"\"\"Accepts a list and creates a new list of integers from the input list\n",
    "       which has objects as data containers and uses the reduce function to \n",
    "       return the product of all the elements inside the new list\"\"\"\n",
    "    lst=[]\n",
    "    for i in l:\n",
    "        \n",
    "        # Traversing inside list \n",
    "        if type(i) == list:\n",
    "            for j in i:\n",
    "                if type(j) == int:\n",
    "                    lst.append(j)\n",
    "                    \n",
    "        # Traversing inside tuple \n",
    "        elif type(i) == tuple:\n",
    "            for j in i:\n",
    "                if type(j) == int:\n",
    "                    lst.append(j)\n",
    "                    \n",
    "        # Travesing inside set            \n",
    "        elif type(i) == set:\n",
    "            for j in i:\n",
    "                if type(j) == int:\n",
    "                    lst.append(j)\n",
    "        \n",
    "        # Trversing inside dictionary values\n",
    "        elif type(i) == dict:\n",
    "            for value in i.values():\n",
    "                \n",
    "                # Traverse inside list\n",
    "                if type(value) == list:\n",
    "                    for j in value:\n",
    "                        if type(j) == int:\n",
    "                            lst.append(j)\n",
    "                \n",
    "                # Traverse inside tuple\n",
    "                elif type(value) == tuple:\n",
    "                    for j in value:\n",
    "                        if type(j) == int:\n",
    "                            lst.append(j)\n",
    "                \n",
    "                # Append integer objects\n",
    "                else:\n",
    "                    lst.append(value)\n",
    "        \n",
    "        elif type(i) == int:\n",
    "            lst.append(i)\n",
    "    \n",
    "    return reduce(lambda x,y:x*y, lst)"
   ]
  },
  {
   "cell_type": "code",
   "execution_count": 2,
   "id": "50b013d8",
   "metadata": {},
   "outputs": [
    {
     "name": "stdout",
     "output_type": "stream",
     "text": [
      "product of all the integers in the given list: 1033677959746771369708460310528000\n"
     ]
    }
   ],
   "source": [
    "list1 = [1,2,3,4, [44,55,66, True], False, (34,56,78,89,34), {1,2,3,3,2,1},\\\n",
    "         {1:34, \"key2\": [55, 67, 78, 89], 4: (45, 22, 61, 34)}, [56, 'data science'], 'Machine Learning']\n",
    "\n",
    "result = obj_prod(list1)\n",
    "print(f\"product of all the integers in the given list: {result}\")"
   ]
  },
  {
   "cell_type": "markdown",
   "id": "4de0430c",
   "metadata": {},
   "source": [
    "#### Q2. Write a python program for encrypting a message sent to you by your friend. The logic of encryption should be such that, for a the output should be z. For b, the output should be y. For c, the output should be x respectively. Also, the whitespace should be replaced with a dollar sign. Keep the punctuation marks unchanged.\n",
    "\n",
    "\n",
    "Input Sentence: I want to become a Data Scientist.\n",
    "\n",
    "\n",
    "Encrypt the above input sentence using the program you just created.\n",
    "\n",
    "\n",
    "Note: Convert the given input sentence into lowercase before encrypting. The final output should be \n",
    "lowercase."
   ]
  },
  {
   "cell_type": "code",
   "execution_count": 3,
   "id": "7ea552a0",
   "metadata": {},
   "outputs": [
    {
     "name": "stdout",
     "output_type": "stream",
     "text": [
      "Enter your message:I want to become a Data Scientist.\n",
      "\n",
      "Encrypted message: r$dzmg$gl$yvxlnv$z$wzgz$hxrvmgrhg.\n"
     ]
    }
   ],
   "source": [
    "msg = str(input(\"Enter your message:\"))\n",
    "msg = list(msg.lower())\n",
    "\n",
    "def encrypt(lst):\n",
    "    \"\"\"Function for encrypting the message\"\"\"\n",
    "    \n",
    "    size = len(lst)\n",
    "    index=0\n",
    "    \n",
    "    # list of punctiation marks\n",
    "    punc = ['.','!','#','@','?',',','-','&']       \n",
    "    \n",
    "    # dictionary of words to encrypt\n",
    "    d = {' ':'$','a':'z','b':'y','c':'x','d':'w','e':'v','f':'u','g':'t',\\\n",
    "        'h':'s','i':'r','j':'q','k':'p','l':'o','m':'n','n':'m','o':'l',\\\n",
    "        'p':'k','q':'j','r':'i','s':'h','t':'g','u':'f','v':'e','w':'d','x':'c','y':'b','z':'a','$':' '}\n",
    "\n",
    "    for char in lst:    \n",
    "        if lst[index] in punc:\n",
    "            pass\n",
    "        else:\n",
    "            lst[index] = d[char]\n",
    "            index = index+1\n",
    "        \n",
    "    return f\"{''.join(lst)}\"\n",
    "\n",
    "enc_msg = encrypt(msg)\n",
    "print(f\"\\nEncrypted message: {enc_msg}\")"
   ]
  }
 ],
 "metadata": {
  "kernelspec": {
   "display_name": "Python 3 (ipykernel)",
   "language": "python",
   "name": "python3"
  },
  "language_info": {
   "codemirror_mode": {
    "name": "ipython",
    "version": 3
   },
   "file_extension": ".py",
   "mimetype": "text/x-python",
   "name": "python",
   "nbconvert_exporter": "python",
   "pygments_lexer": "ipython3",
   "version": "3.10.4"
  }
 },
 "nbformat": 4,
 "nbformat_minor": 5
}
